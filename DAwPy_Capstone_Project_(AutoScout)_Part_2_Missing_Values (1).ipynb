{
 "cells": [
  {
   "cell_type": "markdown",
   "id": "93ac71ee",
   "metadata": {},
   "source": [
    "# \n",
    "<p style=\"text-align: center;\"><img src=\"https://docs.google.com/uc?id=1lY0Uj5R04yMY3-ZppPWxqCr5pvBLYPnV\" class=\"img-fluid\" \n",
    "alt=\"CLRSWY\"></p>\n",
    "\n",
    "## <p style=\"background-color:#FDFEFE; font-family:newtimeroman; color:#9d4f8c; font-size:100%; text-align:center; border-radius:10px 10px;\">WAY TO REINVENT YOURSELF</p>"
   ]
  },
  {
   "cell_type": "markdown",
   "id": "069c275e",
   "metadata": {},
   "source": [
    "<img src=https://i.ibb.co/wJW61Y2/Used-cars.jpg width=\"700\" height=\"200\">\n",
    "\n",
    "## <p style=\"background-color:#FDFEFE; font-family:newtimeroman; color:#060108; font-size:200%; text-align:center; border-radius:10px 10px;\">The Capstone Project of Data Analytics Module</p>\n",
    "\n",
    "## <p style=\"background-color:#FDFEFE; font-family:newtimeroman; color:#060108; font-size:150%; text-align:center; border-radius:10px 10px;\">Car Price Prediction EDA</p>"
   ]
  },
  {
   "cell_type": "markdown",
   "id": "50c70fe0",
   "metadata": {},
   "source": [
    "## Introduction\n",
    "Welcome to \"***AutoScout Data Analysis Project***\". This is the capstone project of ***Data Analysis*** Module. **Auto Scout** data which using for this project, scraped from the on-line car trading company in 2019, contains many features of 9 different car models. In this project, you will have the opportunity to apply many commonly used algorithms for Data Cleaning and Exploratory Data Analysis by using many Python libraries such as Numpy, Pandas, Matplotlib, Seaborn, Scipy you will analyze clean dataset.\n",
    "\n",
    "### Some Reminders on Exploratory data analysis (EDA)\n",
    "\n",
    "Exploratory data analysis (EDA) is an especially important activity in the routine of a data analyst or scientist. It enables an in depth understanding of the dataset, define or discard hypotheses and create predictive models on a solid basis. It uses data manipulation techniques and several statistical tools to describe and understand the relationship between variables and how these can impact business. By means of EDA, we can obtain meaningful insights that can impact analysis under the following questions (If a checklist is good enough for pilots to use every flight, it’s good enough for data scientists to use with every dataset).\n",
    "1. What question are you trying to solve (or prove wrong)?\n",
    "2. What kind of data do you have?\n",
    "3. What’s missing from the data?\n",
    "4. Where are the outliers?\n",
    "5. How can you add, change or remove features to get more out of your data?\n",
    "\n",
    "**``Exploratory data analysis (EDA)``** is often an **iterative brainstorming process** where you pose a question, review the data, and develop further questions to investigate before beginning model development work. The image below shows how the brainstorming phase is connected with that of understanding the variables and how this in turn is connected again with the brainstorming phase.<br>\n",
    "\n",
    "<img src=https://i.ibb.co/k0MC950/EDA-Process.png width=\"300\" height=\"100\">\n",
    "\n",
    "[Image Credit: Andrew D.](https://towardsdatascience.com/exploratory-data-analysis-in-python-a-step-by-step-process-d0dfa6bf94ee)\n",
    "\n",
    "**``In this context, the project consists of 3 parts in general:``**\n",
    "* **The first part** is related to 'Data Cleaning'. It deals with Incorrect Headers, Incorrect Format, Anomalies, and Dropping useless columns.\n",
    "* **The second part** is related to 'Filling Data', in other words 'Imputation'. It deals with Missing Values. Categorical to numeric transformation is done as well.\n",
    "* **The third part** is related to 'Handling Outliers of Data' via Visualization libraries. So, some insights will be extracted.\n",
    "\n",
    "**``NOTE:``**  However, you are free to create your own style. You do NOT have to stick to the steps above. We, the DA & DV instructors, recommend you study each part separately to create a source notebook for each part title for your further studies."
   ]
  },
  {
   "cell_type": "markdown",
   "id": "d8735a98",
   "metadata": {},
   "source": [
    "## <p style=\"background-color:#9d4f8c; font-family:newtimeroman; color:#FFF9ED; font-size:175%; text-align:center; border-radius:10px 10px;\">Importing Related Libraries</p>"
   ]
  },
  {
   "cell_type": "code",
   "execution_count": 3,
   "id": "8f0f097f",
   "metadata": {},
   "outputs": [
    {
     "name": "stderr",
     "output_type": "stream",
     "text": [
      "C:\\Users\\sarin\\anaconda3\\lib\\site-packages\\scipy\\__init__.py:146: UserWarning: A NumPy version >=1.16.5 and <1.23.0 is required for this version of SciPy (detected version 1.23.1\n",
      "  warnings.warn(f\"A NumPy version >={np_minversion} and <{np_maxversion}\"\n"
     ]
    }
   ],
   "source": [
    "import numpy as np\n",
    "import pandas as pd\n",
    "import seaborn as sns \n",
    "import matplotlib.pyplot as plt\n",
    "from scipy import stats\n",
    "from scipy.stats.mstats import winsorize\n",
    "\n",
    "import warnings\n",
    "warnings.filterwarnings(\"ignore\")\n",
    "warnings.warn(\"this will not show\")\n",
    "\n",
    "%matplotlib inline\n",
    "# %matplotlib notebook\n",
    "\n",
    "plt.rcParams[\"figure.figsize\"] = (10,6)\n",
    "# plt.rcParams['figure.dpi'] = 100\n",
    "\n",
    "sns.set_style(\"whitegrid\")\n",
    "pd.set_option('display.float_format', lambda x: '%.3f' % x)\n",
    "\n",
    "pd.options.display.max_rows = 1000\n",
    "pd.options.display.max_columns = 150"
   ]
  },
  {
   "cell_type": "markdown",
   "id": "cf282937",
   "metadata": {},
   "source": [
    "# PART- 2 `( Handling With Missing Vales )`"
   ]
  },
  {
   "cell_type": "code",
   "execution_count": 227,
   "id": "4bee48b2",
   "metadata": {},
   "outputs": [
    {
     "data": {
      "text/html": [
       "<div>\n",
       "<style scoped>\n",
       "    .dataframe tbody tr th:only-of-type {\n",
       "        vertical-align: middle;\n",
       "    }\n",
       "\n",
       "    .dataframe tbody tr th {\n",
       "        vertical-align: top;\n",
       "    }\n",
       "\n",
       "    .dataframe thead th {\n",
       "        text-align: right;\n",
       "    }\n",
       "</style>\n",
       "<table border=\"1\" class=\"dataframe\">\n",
       "  <thead>\n",
       "    <tr style=\"text-align: right;\">\n",
       "      <th></th>\n",
       "      <th>6191</th>\n",
       "      <th>13546</th>\n",
       "      <th>15162</th>\n",
       "    </tr>\n",
       "  </thead>\n",
       "  <tbody>\n",
       "    <tr>\n",
       "      <th>make_model</th>\n",
       "      <td>Opel Astra</td>\n",
       "      <td>Renault Clio</td>\n",
       "      <td>Renault Espace</td>\n",
       "    </tr>\n",
       "    <tr>\n",
       "      <th>body_type</th>\n",
       "      <td>Station wagon</td>\n",
       "      <td>Station wagon</td>\n",
       "      <td>Van</td>\n",
       "    </tr>\n",
       "    <tr>\n",
       "      <th>price</th>\n",
       "      <td>9500</td>\n",
       "      <td>7999</td>\n",
       "      <td>21990</td>\n",
       "    </tr>\n",
       "    <tr>\n",
       "      <th>vat</th>\n",
       "      <td>VAT deductible</td>\n",
       "      <td>NaN</td>\n",
       "      <td>VAT deductible</td>\n",
       "    </tr>\n",
       "    <tr>\n",
       "      <th>km</th>\n",
       "      <td>30519.0</td>\n",
       "      <td>110003.0</td>\n",
       "      <td>97506.0</td>\n",
       "    </tr>\n",
       "    <tr>\n",
       "      <th>Type</th>\n",
       "      <td>Used</td>\n",
       "      <td>Used</td>\n",
       "      <td>Used</td>\n",
       "    </tr>\n",
       "    <tr>\n",
       "      <th>Fuel</th>\n",
       "      <td>Benzine</td>\n",
       "      <td>Diesel</td>\n",
       "      <td>Diesel</td>\n",
       "    </tr>\n",
       "    <tr>\n",
       "      <th>Comfort &amp; Convenience</th>\n",
       "      <td>Air conditioning,Power windows</td>\n",
       "      <td>Air conditioning,Cruise control,Electrical sid...</td>\n",
       "      <td>Sunroof</td>\n",
       "    </tr>\n",
       "    <tr>\n",
       "      <th>Entertainment &amp; Media</th>\n",
       "      <td>NaN</td>\n",
       "      <td>Bluetooth,CD player,Hands-free equipment,MP3,O...</td>\n",
       "      <td>NaN</td>\n",
       "    </tr>\n",
       "    <tr>\n",
       "      <th>Extras</th>\n",
       "      <td>NaN</td>\n",
       "      <td>Alloy wheels,Roof rack</td>\n",
       "      <td>NaN</td>\n",
       "    </tr>\n",
       "    <tr>\n",
       "      <th>Safety &amp; Security</th>\n",
       "      <td>ABS,Central door lock,Electronic stability con...</td>\n",
       "      <td>ABS,Central door lock with remote control,Driv...</td>\n",
       "      <td>NaN</td>\n",
       "    </tr>\n",
       "    <tr>\n",
       "      <th>Gears</th>\n",
       "      <td>5.0</td>\n",
       "      <td>5.0</td>\n",
       "      <td>NaN</td>\n",
       "    </tr>\n",
       "    <tr>\n",
       "      <th>Previous_Owners</th>\n",
       "      <td>NaN</td>\n",
       "      <td>1.0</td>\n",
       "      <td>NaN</td>\n",
       "    </tr>\n",
       "    <tr>\n",
       "      <th>hp_kW</th>\n",
       "      <td>74.0</td>\n",
       "      <td>66.0</td>\n",
       "      <td>118.0</td>\n",
       "    </tr>\n",
       "    <tr>\n",
       "      <th>Paint_Type</th>\n",
       "      <td>Metallic</td>\n",
       "      <td>Metallic</td>\n",
       "      <td>NaN</td>\n",
       "    </tr>\n",
       "    <tr>\n",
       "      <th>Upholstery_type</th>\n",
       "      <td>NaN</td>\n",
       "      <td>Cloth</td>\n",
       "      <td>NaN</td>\n",
       "    </tr>\n",
       "    <tr>\n",
       "      <th>Nr_of_Doors</th>\n",
       "      <td>4.0</td>\n",
       "      <td>5.0</td>\n",
       "      <td>5.0</td>\n",
       "    </tr>\n",
       "    <tr>\n",
       "      <th>Nr_of_Seats</th>\n",
       "      <td>5.0</td>\n",
       "      <td>5.0</td>\n",
       "      <td>NaN</td>\n",
       "    </tr>\n",
       "    <tr>\n",
       "      <th>Gearing_Type</th>\n",
       "      <td>Manual</td>\n",
       "      <td>Manual</td>\n",
       "      <td>Automatic</td>\n",
       "    </tr>\n",
       "    <tr>\n",
       "      <th>Displacement_cc</th>\n",
       "      <td>1398.0</td>\n",
       "      <td>1461.0</td>\n",
       "      <td>NaN</td>\n",
       "    </tr>\n",
       "    <tr>\n",
       "      <th>Weight_kg</th>\n",
       "      <td>NaN</td>\n",
       "      <td>1260.0</td>\n",
       "      <td>NaN</td>\n",
       "    </tr>\n",
       "    <tr>\n",
       "      <th>Drive_chain</th>\n",
       "      <td>front</td>\n",
       "      <td>front</td>\n",
       "      <td>NaN</td>\n",
       "    </tr>\n",
       "    <tr>\n",
       "      <th>cons_comb</th>\n",
       "      <td>5.5</td>\n",
       "      <td>3.3</td>\n",
       "      <td>4.6</td>\n",
       "    </tr>\n",
       "    <tr>\n",
       "      <th>CO2_Emission</th>\n",
       "      <td>127.0</td>\n",
       "      <td>85.0</td>\n",
       "      <td>NaN</td>\n",
       "    </tr>\n",
       "    <tr>\n",
       "      <th>Emission_Class</th>\n",
       "      <td>Euro 6</td>\n",
       "      <td>Euro 6</td>\n",
       "      <td>NaN</td>\n",
       "    </tr>\n",
       "  </tbody>\n",
       "</table>\n",
       "</div>"
      ],
      "text/plain": [
       "                                                                   6191   \\\n",
       "make_model                                                    Opel Astra   \n",
       "body_type                                                  Station wagon   \n",
       "price                                                               9500   \n",
       "vat                                                       VAT deductible   \n",
       "km                                                               30519.0   \n",
       "Type                                                                Used   \n",
       "Fuel                                                             Benzine   \n",
       "Comfort & Convenience                     Air conditioning,Power windows   \n",
       "Entertainment & Media                                                NaN   \n",
       "Extras                                                               NaN   \n",
       "Safety & Security      ABS,Central door lock,Electronic stability con...   \n",
       "Gears                                                                5.0   \n",
       "Previous_Owners                                                      NaN   \n",
       "hp_kW                                                               74.0   \n",
       "Paint_Type                                                      Metallic   \n",
       "Upholstery_type                                                      NaN   \n",
       "Nr_of_Doors                                                          4.0   \n",
       "Nr_of_Seats                                                          5.0   \n",
       "Gearing_Type                                                      Manual   \n",
       "Displacement_cc                                                   1398.0   \n",
       "Weight_kg                                                            NaN   \n",
       "Drive_chain                                                        front   \n",
       "cons_comb                                                            5.5   \n",
       "CO2_Emission                                                       127.0   \n",
       "Emission_Class                                                    Euro 6   \n",
       "\n",
       "                                                                   13546  \\\n",
       "make_model                                                  Renault Clio   \n",
       "body_type                                                  Station wagon   \n",
       "price                                                               7999   \n",
       "vat                                                                  NaN   \n",
       "km                                                              110003.0   \n",
       "Type                                                                Used   \n",
       "Fuel                                                              Diesel   \n",
       "Comfort & Convenience  Air conditioning,Cruise control,Electrical sid...   \n",
       "Entertainment & Media  Bluetooth,CD player,Hands-free equipment,MP3,O...   \n",
       "Extras                                            Alloy wheels,Roof rack   \n",
       "Safety & Security      ABS,Central door lock with remote control,Driv...   \n",
       "Gears                                                                5.0   \n",
       "Previous_Owners                                                      1.0   \n",
       "hp_kW                                                               66.0   \n",
       "Paint_Type                                                      Metallic   \n",
       "Upholstery_type                                                    Cloth   \n",
       "Nr_of_Doors                                                          5.0   \n",
       "Nr_of_Seats                                                          5.0   \n",
       "Gearing_Type                                                      Manual   \n",
       "Displacement_cc                                                   1461.0   \n",
       "Weight_kg                                                         1260.0   \n",
       "Drive_chain                                                        front   \n",
       "cons_comb                                                            3.3   \n",
       "CO2_Emission                                                        85.0   \n",
       "Emission_Class                                                    Euro 6   \n",
       "\n",
       "                                15162  \n",
       "make_model             Renault Espace  \n",
       "body_type                         Van  \n",
       "price                           21990  \n",
       "vat                    VAT deductible  \n",
       "km                            97506.0  \n",
       "Type                             Used  \n",
       "Fuel                           Diesel  \n",
       "Comfort & Convenience         Sunroof  \n",
       "Entertainment & Media             NaN  \n",
       "Extras                            NaN  \n",
       "Safety & Security                 NaN  \n",
       "Gears                             NaN  \n",
       "Previous_Owners                   NaN  \n",
       "hp_kW                           118.0  \n",
       "Paint_Type                        NaN  \n",
       "Upholstery_type                   NaN  \n",
       "Nr_of_Doors                       5.0  \n",
       "Nr_of_Seats                       NaN  \n",
       "Gearing_Type                Automatic  \n",
       "Displacement_cc                   NaN  \n",
       "Weight_kg                         NaN  \n",
       "Drive_chain                       NaN  \n",
       "cons_comb                         4.6  \n",
       "CO2_Emission                      NaN  \n",
       "Emission_Class                    NaN  "
      ]
     },
     "execution_count": 227,
     "metadata": {},
     "output_type": "execute_result"
    }
   ],
   "source": [
    "df = pd.read_csv(\"clean_scout.csv\")\n",
    "df.sample(3).T"
   ]
  },
  {
   "cell_type": "code",
   "execution_count": 228,
   "id": "df11a1cc",
   "metadata": {},
   "outputs": [
    {
     "name": "stdout",
     "output_type": "stream",
     "text": [
      "<class 'pandas.core.frame.DataFrame'>\n",
      "RangeIndex: 15919 entries, 0 to 15918\n",
      "Data columns (total 25 columns):\n",
      " #   Column                 Non-Null Count  Dtype  \n",
      "---  ------                 --------------  -----  \n",
      " 0   make_model             15919 non-null  object \n",
      " 1   body_type              15859 non-null  object \n",
      " 2   price                  15919 non-null  int64  \n",
      " 3   vat                    11406 non-null  object \n",
      " 4   km                     14895 non-null  float64\n",
      " 5   Type                   15917 non-null  object \n",
      " 6   Fuel                   15919 non-null  object \n",
      " 7   Comfort & Convenience  14999 non-null  object \n",
      " 8   Entertainment & Media  14545 non-null  object \n",
      " 9   Extras                 12957 non-null  object \n",
      " 10  Safety & Security      14937 non-null  object \n",
      " 11  Gears                  11207 non-null  float64\n",
      " 12  Previous_Owners        9279 non-null   float64\n",
      " 13  hp_kW                  15831 non-null  float64\n",
      " 14  Paint_Type             10147 non-null  object \n",
      " 15  Upholstery_type        11048 non-null  object \n",
      " 16  Nr_of_Doors            15707 non-null  float64\n",
      " 17  Nr_of_Seats            14942 non-null  float64\n",
      " 18  Gearing_Type           15919 non-null  object \n",
      " 19  Displacement_cc        15423 non-null  float64\n",
      " 20  Weight_kg              8945 non-null   float64\n",
      " 21  Drive_chain            9061 non-null   object \n",
      " 22  cons_comb              13886 non-null  float64\n",
      " 23  CO2_Emission           13483 non-null  float64\n",
      " 24  Emission_Class         12291 non-null  object \n",
      "dtypes: float64(10), int64(1), object(14)\n",
      "memory usage: 3.0+ MB\n"
     ]
    }
   ],
   "source": [
    "df.info()"
   ]
  },
  {
   "cell_type": "code",
   "execution_count": 229,
   "id": "e027be74",
   "metadata": {
    "scrolled": false
   },
   "outputs": [
    {
     "data": {
      "text/plain": [
       "make_model                0.000000\n",
       "body_type                 0.376908\n",
       "price                     0.000000\n",
       "vat                      28.349771\n",
       "km                        6.432565\n",
       "Type                      0.012564\n",
       "Fuel                      0.000000\n",
       "Comfort & Convenience     5.779257\n",
       "Entertainment & Media     8.631195\n",
       "Extras                   18.606696\n",
       "Safety & Security         6.168729\n",
       "Gears                    29.599849\n",
       "Previous_Owners          41.711163\n",
       "hp_kW                     0.552799\n",
       "Paint_Type               36.258559\n",
       "Upholstery_type          30.598656\n",
       "Nr_of_Doors               1.331742\n",
       "Nr_of_Seats               6.137320\n",
       "Gearing_Type              0.000000\n",
       "Displacement_cc           3.115774\n",
       "Weight_kg                43.809285\n",
       "Drive_chain              43.080596\n",
       "cons_comb                12.770903\n",
       "CO2_Emission             15.302469\n",
       "Emission_Class           22.790376\n",
       "dtype: float64"
      ]
     },
     "execution_count": 229,
     "metadata": {},
     "output_type": "execute_result"
    }
   ],
   "source": [
    "df.isna().sum() / df.shape[0]*100"
   ]
  },
  {
   "cell_type": "markdown",
   "id": "f04db1e5",
   "metadata": {},
   "source": [
    "## Functions"
   ]
  },
  {
   "cell_type": "code",
   "execution_count": 230,
   "id": "9c6c1483",
   "metadata": {},
   "outputs": [],
   "source": [
    "def infos(df, x):\n",
    "    print(\"Column name  :  \"+x)\n",
    "    print(\"-----------------------------\")\n",
    "    print(\"Number of nulls  :  \"+str(df[x].isna().sum()))\n",
    "    print(\"% of nulls       :  \"+str(round(df[x].isna().sum()/df.shape[0]*100,2))+\"%\")\n",
    "    print(\"Number of uniques:  \"+str(df[x].nunique()))\n",
    "    print(\"-----------------------------\\nValue Counts\\n\")\n",
    "    print(df[x].value_counts(dropna=False))"
   ]
  },
  {
   "cell_type": "code",
   "execution_count": 231,
   "id": "cc8c8799",
   "metadata": {},
   "outputs": [],
   "source": [
    "def fill_mode(df, g, c):\n",
    "    df[c] = df[c].fillna(df.groupby(g)[c].transform(lambda x: x.mode()[0]))\n",
    "    print(\"Number of NaN :\",df[c].isna().sum())\n",
    "    print(\"---------------------\")\n",
    "    print(df[c].value_counts(dropna=False))\n"
   ]
  },
  {
   "cell_type": "code",
   "execution_count": 232,
   "id": "a3f71c0c",
   "metadata": {},
   "outputs": [],
   "source": [
    "def fill_mode2(df, col1, col2, x):\n",
    "    for g1 in list(df[col1].unique()):\n",
    "        for g2 in list(df[col2].unique()):\n",
    "            cond1 = df[col1] == g1\n",
    "            cond2 = df[col2] == g2\n",
    "            try:\n",
    "                df.loc[cond1&cond2, x] = df.loc[cond1&cond2, x].fillna(df[cond1&cond2][x].mode()[0])\n",
    "            except:\n",
    "                df.loc[cond1, x] = df.loc[cond1, x].fillna(df[cond1][x].mode()[0])\n",
    "    \n",
    "    print(\"Number of NaN : \",df[x].isna().sum())\n",
    "    print(\"------------------\")\n",
    "    print(df[x].value_counts(dropna=False))"
   ]
  },
  {
   "cell_type": "code",
   "execution_count": 233,
   "id": "441ae2e7",
   "metadata": {},
   "outputs": [
    {
     "data": {
      "text/plain": [
       "False"
      ]
     },
     "execution_count": 233,
     "metadata": {},
     "output_type": "execute_result"
    }
   ],
   "source": [
    "df[\"Weight_kg\"].isna().sum() == 6973"
   ]
  },
  {
   "cell_type": "code",
   "execution_count": 234,
   "id": "9dfb85de",
   "metadata": {},
   "outputs": [],
   "source": [
    "def fill_mean(df, col1, col2, x):\n",
    "    df[x].fillna(df.groupby([col1,col2])[x].transform(\"mean\"), inplace=True)\n",
    "    if df[x].isna().sum() != 0:\n",
    "        df[x].fillna(df.groupby(col2)[x].transform(\"mean\"), inplace=True)\n",
    "    print(\"Number of NaN : \",df[x].isna().sum())\n",
    "    print(\"------------------\")\n",
    "    print(df[x].value_counts(dropna=False))    "
   ]
  },
  {
   "cell_type": "markdown",
   "id": "4acb7ec2",
   "metadata": {},
   "source": [
    "## Handling with Categorical Features"
   ]
  },
  {
   "cell_type": "code",
   "execution_count": 235,
   "id": "a5007006",
   "metadata": {},
   "outputs": [],
   "source": [
    "categoric = [i for i in df.columns if df[i].dtype == \"object\"]\n",
    "dfc = df[categoric]"
   ]
  },
  {
   "cell_type": "code",
   "execution_count": 236,
   "id": "951ecb53",
   "metadata": {},
   "outputs": [
    {
     "data": {
      "text/plain": [
       "make_model                  0\n",
       "body_type                  60\n",
       "vat                      4513\n",
       "Type                        2\n",
       "Fuel                        0\n",
       "Comfort & Convenience     920\n",
       "Entertainment & Media    1374\n",
       "Extras                   2962\n",
       "Safety & Security         982\n",
       "Paint_Type               5772\n",
       "Upholstery_type          4871\n",
       "Gearing_Type                0\n",
       "Drive_chain              6858\n",
       "Emission_Class           3628\n",
       "dtype: int64"
      ]
     },
     "execution_count": 236,
     "metadata": {},
     "output_type": "execute_result"
    }
   ],
   "source": [
    "dfc.isna().sum()"
   ]
  },
  {
   "cell_type": "markdown",
   "id": "bbfe19ba",
   "metadata": {},
   "source": [
    "### body_type"
   ]
  },
  {
   "cell_type": "code",
   "execution_count": 237,
   "id": "3d414f94",
   "metadata": {},
   "outputs": [
    {
     "name": "stdout",
     "output_type": "stream",
     "text": [
      "Column name  :  body_type\n",
      "-----------------------------\n",
      "Number of nulls  :  60\n",
      "% of nulls       :  0.38%\n",
      "Number of uniques:  9\n",
      "-----------------------------\n",
      "Value Counts\n",
      "\n",
      "Sedans           7903\n",
      "Station wagon    3553\n",
      "Compact          3153\n",
      "Van               783\n",
      "Other             290\n",
      "Transporter        88\n",
      "NaN                60\n",
      "Off-Road           56\n",
      "Coupe              25\n",
      "Convertible         8\n",
      "Name: body_type, dtype: int64\n"
     ]
    }
   ],
   "source": [
    "infos(dfc,\"body_type\")"
   ]
  },
  {
   "cell_type": "code",
   "execution_count": 238,
   "id": "4f0c91a7",
   "metadata": {},
   "outputs": [],
   "source": [
    "dfc.body_type.replace(\"Other\", np.nan,inplace=True)"
   ]
  },
  {
   "cell_type": "code",
   "execution_count": 239,
   "id": "d91970a8",
   "metadata": {
    "scrolled": true
   },
   "outputs": [
    {
     "name": "stdout",
     "output_type": "stream",
     "text": [
      "Number of NaN : 0\n",
      "---------------------\n",
      "Sedans           8005\n",
      "Station wagon    3678\n",
      "Compact          3242\n",
      "Van               817\n",
      "Transporter        88\n",
      "Off-Road           56\n",
      "Coupe              25\n",
      "Convertible         8\n",
      "Name: body_type, dtype: int64\n"
     ]
    }
   ],
   "source": [
    "fill_mode(dfc, \"make_model\", \"body_type\")"
   ]
  },
  {
   "cell_type": "markdown",
   "id": "6a617417",
   "metadata": {},
   "source": [
    "### Type"
   ]
  },
  {
   "cell_type": "code",
   "execution_count": 240,
   "id": "a45df6b8",
   "metadata": {},
   "outputs": [
    {
     "name": "stdout",
     "output_type": "stream",
     "text": [
      "Column name  :  Type\n",
      "-----------------------------\n",
      "Number of nulls  :  2\n",
      "% of nulls       :  0.01%\n",
      "Number of uniques:  5\n",
      "-----------------------------\n",
      "Value Counts\n",
      "\n",
      "Used              11096\n",
      "New                1650\n",
      "Pre-registered     1364\n",
      "Employee's car     1011\n",
      "Demonstration       796\n",
      "NaN                   2\n",
      "Name: Type, dtype: int64\n"
     ]
    }
   ],
   "source": [
    "infos(dfc,\"Type\")"
   ]
  },
  {
   "cell_type": "code",
   "execution_count": 241,
   "id": "c4bcc913",
   "metadata": {},
   "outputs": [
    {
     "data": {
      "text/html": [
       "<div>\n",
       "<style scoped>\n",
       "    .dataframe tbody tr th:only-of-type {\n",
       "        vertical-align: middle;\n",
       "    }\n",
       "\n",
       "    .dataframe tbody tr th {\n",
       "        vertical-align: top;\n",
       "    }\n",
       "\n",
       "    .dataframe thead th {\n",
       "        text-align: right;\n",
       "    }\n",
       "</style>\n",
       "<table border=\"1\" class=\"dataframe\">\n",
       "  <thead>\n",
       "    <tr style=\"text-align: right;\">\n",
       "      <th></th>\n",
       "      <th>2765</th>\n",
       "      <th>5237</th>\n",
       "    </tr>\n",
       "  </thead>\n",
       "  <tbody>\n",
       "    <tr>\n",
       "      <th>make_model</th>\n",
       "      <td>Audi A3</td>\n",
       "      <td>Audi A3</td>\n",
       "    </tr>\n",
       "    <tr>\n",
       "      <th>body_type</th>\n",
       "      <td>Sedans</td>\n",
       "      <td>Sedans</td>\n",
       "    </tr>\n",
       "    <tr>\n",
       "      <th>price</th>\n",
       "      <td>17900</td>\n",
       "      <td>25400</td>\n",
       "    </tr>\n",
       "    <tr>\n",
       "      <th>vat</th>\n",
       "      <td>NaN</td>\n",
       "      <td>NaN</td>\n",
       "    </tr>\n",
       "    <tr>\n",
       "      <th>km</th>\n",
       "      <td>115137.0</td>\n",
       "      <td>NaN</td>\n",
       "    </tr>\n",
       "    <tr>\n",
       "      <th>Type</th>\n",
       "      <td>NaN</td>\n",
       "      <td>NaN</td>\n",
       "    </tr>\n",
       "    <tr>\n",
       "      <th>Fuel</th>\n",
       "      <td>Diesel</td>\n",
       "      <td>Diesel</td>\n",
       "    </tr>\n",
       "    <tr>\n",
       "      <th>Comfort &amp; Convenience</th>\n",
       "      <td>Air conditioning</td>\n",
       "      <td>Air conditioning</td>\n",
       "    </tr>\n",
       "    <tr>\n",
       "      <th>Entertainment &amp; Media</th>\n",
       "      <td>Bluetooth,Hands-free equipment</td>\n",
       "      <td>Bluetooth,Hands-free equipment</td>\n",
       "    </tr>\n",
       "    <tr>\n",
       "      <th>Extras</th>\n",
       "      <td>Alloy wheels,Sport seats,Sport suspension</td>\n",
       "      <td>Alloy wheels</td>\n",
       "    </tr>\n",
       "    <tr>\n",
       "      <th>Safety &amp; Security</th>\n",
       "      <td>ABS,Central door lock,Driver-side airbag,Isofi...</td>\n",
       "      <td>ABS,Central door lock,Driver-side airbag,Isofi...</td>\n",
       "    </tr>\n",
       "    <tr>\n",
       "      <th>Gears</th>\n",
       "      <td>6.0</td>\n",
       "      <td>7.0</td>\n",
       "    </tr>\n",
       "    <tr>\n",
       "      <th>Previous_Owners</th>\n",
       "      <td>NaN</td>\n",
       "      <td>NaN</td>\n",
       "    </tr>\n",
       "    <tr>\n",
       "      <th>hp_kW</th>\n",
       "      <td>110.0</td>\n",
       "      <td>85.0</td>\n",
       "    </tr>\n",
       "    <tr>\n",
       "      <th>Paint_Type</th>\n",
       "      <td>NaN</td>\n",
       "      <td>NaN</td>\n",
       "    </tr>\n",
       "    <tr>\n",
       "      <th>Upholstery_type</th>\n",
       "      <td>Cloth</td>\n",
       "      <td>Cloth</td>\n",
       "    </tr>\n",
       "    <tr>\n",
       "      <th>Nr_of_Doors</th>\n",
       "      <td>5.0</td>\n",
       "      <td>5.0</td>\n",
       "    </tr>\n",
       "    <tr>\n",
       "      <th>Nr_of_Seats</th>\n",
       "      <td>5.0</td>\n",
       "      <td>5.0</td>\n",
       "    </tr>\n",
       "    <tr>\n",
       "      <th>Gearing_Type</th>\n",
       "      <td>Automatic</td>\n",
       "      <td>Automatic</td>\n",
       "    </tr>\n",
       "    <tr>\n",
       "      <th>Displacement_cc</th>\n",
       "      <td>1968.0</td>\n",
       "      <td>1598.0</td>\n",
       "    </tr>\n",
       "    <tr>\n",
       "      <th>Weight_kg</th>\n",
       "      <td>NaN</td>\n",
       "      <td>NaN</td>\n",
       "    </tr>\n",
       "    <tr>\n",
       "      <th>Drive_chain</th>\n",
       "      <td>front</td>\n",
       "      <td>front</td>\n",
       "    </tr>\n",
       "    <tr>\n",
       "      <th>cons_comb</th>\n",
       "      <td>4.5</td>\n",
       "      <td>3.9</td>\n",
       "    </tr>\n",
       "    <tr>\n",
       "      <th>CO2_Emission</th>\n",
       "      <td>118.0</td>\n",
       "      <td>103.0</td>\n",
       "    </tr>\n",
       "    <tr>\n",
       "      <th>Emission_Class</th>\n",
       "      <td>Euro 6</td>\n",
       "      <td>Euro 6</td>\n",
       "    </tr>\n",
       "  </tbody>\n",
       "</table>\n",
       "</div>"
      ],
      "text/plain": [
       "                                                                    2765  \\\n",
       "make_model                                                       Audi A3   \n",
       "body_type                                                         Sedans   \n",
       "price                                                              17900   \n",
       "vat                                                                  NaN   \n",
       "km                                                              115137.0   \n",
       "Type                                                                 NaN   \n",
       "Fuel                                                              Diesel   \n",
       "Comfort & Convenience                                   Air conditioning   \n",
       "Entertainment & Media                     Bluetooth,Hands-free equipment   \n",
       "Extras                         Alloy wheels,Sport seats,Sport suspension   \n",
       "Safety & Security      ABS,Central door lock,Driver-side airbag,Isofi...   \n",
       "Gears                                                                6.0   \n",
       "Previous_Owners                                                      NaN   \n",
       "hp_kW                                                              110.0   \n",
       "Paint_Type                                                           NaN   \n",
       "Upholstery_type                                                    Cloth   \n",
       "Nr_of_Doors                                                          5.0   \n",
       "Nr_of_Seats                                                          5.0   \n",
       "Gearing_Type                                                   Automatic   \n",
       "Displacement_cc                                                   1968.0   \n",
       "Weight_kg                                                            NaN   \n",
       "Drive_chain                                                        front   \n",
       "cons_comb                                                            4.5   \n",
       "CO2_Emission                                                       118.0   \n",
       "Emission_Class                                                    Euro 6   \n",
       "\n",
       "                                                                    5237  \n",
       "make_model                                                       Audi A3  \n",
       "body_type                                                         Sedans  \n",
       "price                                                              25400  \n",
       "vat                                                                  NaN  \n",
       "km                                                                   NaN  \n",
       "Type                                                                 NaN  \n",
       "Fuel                                                              Diesel  \n",
       "Comfort & Convenience                                   Air conditioning  \n",
       "Entertainment & Media                     Bluetooth,Hands-free equipment  \n",
       "Extras                                                      Alloy wheels  \n",
       "Safety & Security      ABS,Central door lock,Driver-side airbag,Isofi...  \n",
       "Gears                                                                7.0  \n",
       "Previous_Owners                                                      NaN  \n",
       "hp_kW                                                               85.0  \n",
       "Paint_Type                                                           NaN  \n",
       "Upholstery_type                                                    Cloth  \n",
       "Nr_of_Doors                                                          5.0  \n",
       "Nr_of_Seats                                                          5.0  \n",
       "Gearing_Type                                                   Automatic  \n",
       "Displacement_cc                                                   1598.0  \n",
       "Weight_kg                                                            NaN  \n",
       "Drive_chain                                                        front  \n",
       "cons_comb                                                            3.9  \n",
       "CO2_Emission                                                       103.0  \n",
       "Emission_Class                                                    Euro 6  "
      ]
     },
     "execution_count": 241,
     "metadata": {},
     "output_type": "execute_result"
    }
   ],
   "source": [
    "df[df[\"Type\"].isna()].T"
   ]
  },
  {
   "cell_type": "code",
   "execution_count": 242,
   "id": "53459a54",
   "metadata": {},
   "outputs": [],
   "source": [
    "dfc.loc[(dfc[\"Type\"].isna() == True)&(df.km>200), \"Type\"] = \"Used\"\n",
    "dfc.loc[(dfc[\"Type\"].isna() == True)&(df.km<=200), \"Type\"] = \"New\""
   ]
  },
  {
   "cell_type": "code",
   "execution_count": 243,
   "id": "2ec649d8",
   "metadata": {
    "scrolled": false
   },
   "outputs": [
    {
     "data": {
      "text/plain": [
       "0                  Used\n",
       "1                  Used\n",
       "2                  Used\n",
       "3                  Used\n",
       "4                  Used\n",
       "              ...      \n",
       "15914               New\n",
       "15915              Used\n",
       "15916    Pre-registered\n",
       "15917    Pre-registered\n",
       "15918     Demonstration\n",
       "Name: Type, Length: 15917, dtype: object"
      ]
     },
     "execution_count": 243,
     "metadata": {},
     "output_type": "execute_result"
    }
   ],
   "source": [
    "df[\"Type\"].dropna(how=all)"
   ]
  },
  {
   "cell_type": "code",
   "execution_count": 244,
   "id": "06275f28",
   "metadata": {},
   "outputs": [
    {
     "name": "stdout",
     "output_type": "stream",
     "text": [
      "Column name  :  Type\n",
      "-----------------------------\n",
      "Number of nulls  :  1\n",
      "% of nulls       :  0.01%\n",
      "Number of uniques:  5\n",
      "-----------------------------\n",
      "Value Counts\n",
      "\n",
      "Used              11097\n",
      "New                1650\n",
      "Pre-registered     1364\n",
      "Employee's car     1011\n",
      "Demonstration       796\n",
      "NaN                   1\n",
      "Name: Type, dtype: int64\n"
     ]
    }
   ],
   "source": [
    "infos(dfc,\"Type\")"
   ]
  },
  {
   "cell_type": "markdown",
   "id": "cb23f625",
   "metadata": {},
   "source": [
    "### Paint_Type"
   ]
  },
  {
   "cell_type": "code",
   "execution_count": 245,
   "id": "ba918733",
   "metadata": {},
   "outputs": [
    {
     "name": "stdout",
     "output_type": "stream",
     "text": [
      "Column name  :  Paint_Type\n",
      "-----------------------------\n",
      "Number of nulls  :  5772\n",
      "% of nulls       :  36.26%\n",
      "Number of uniques:  3\n",
      "-----------------------------\n",
      "Value Counts\n",
      "\n",
      "Metallic       9794\n",
      "NaN            5772\n",
      "Uni/basic       347\n",
      "Perl effect       6\n",
      "Name: Paint_Type, dtype: int64\n"
     ]
    }
   ],
   "source": [
    "infos(dfc, \"Paint_Type\")"
   ]
  },
  {
   "cell_type": "code",
   "execution_count": 246,
   "id": "832b0da3",
   "metadata": {},
   "outputs": [
    {
     "name": "stdout",
     "output_type": "stream",
     "text": [
      "Number of NaN :  0\n",
      "------------------\n",
      "Metallic       15549\n",
      "Uni/basic        364\n",
      "Perl effect        6\n",
      "Name: Paint_Type, dtype: int64\n"
     ]
    }
   ],
   "source": [
    "fill_mode2(dfc, \"make_model\", \"body_type\", \"Paint_Type\")"
   ]
  },
  {
   "cell_type": "markdown",
   "id": "fff128ee",
   "metadata": {},
   "source": [
    "### vat"
   ]
  },
  {
   "cell_type": "code",
   "execution_count": 247,
   "id": "4808e410",
   "metadata": {},
   "outputs": [],
   "source": [
    "dfc.vat = df.vat"
   ]
  },
  {
   "cell_type": "code",
   "execution_count": 248,
   "id": "e6901056",
   "metadata": {},
   "outputs": [
    {
     "name": "stdout",
     "output_type": "stream",
     "text": [
      "Column name  :  vat\n",
      "-----------------------------\n",
      "Number of nulls  :  4513\n",
      "% of nulls       :  28.35%\n",
      "Number of uniques:  2\n",
      "-----------------------------\n",
      "Value Counts\n",
      "\n",
      "VAT deductible      10980\n",
      "NaN                  4513\n",
      "Price negotiable      426\n",
      "Name: vat, dtype: int64\n"
     ]
    }
   ],
   "source": [
    "infos(dfc, \"vat\")"
   ]
  },
  {
   "cell_type": "code",
   "execution_count": 249,
   "id": "e5c0f89e",
   "metadata": {},
   "outputs": [
    {
     "name": "stdout",
     "output_type": "stream",
     "text": [
      "Column name  :  vat\n",
      "-----------------------------\n",
      "Number of nulls  :  0\n",
      "% of nulls       :  0.0%\n",
      "Number of uniques:  3\n",
      "-----------------------------\n",
      "Value Counts\n",
      "\n",
      "VAT deductible      10980\n",
      "Non-Discount         4513\n",
      "Price negotiable      426\n",
      "Name: vat, dtype: int64\n"
     ]
    }
   ],
   "source": [
    "dfc.vat.fillna(\"Non-Discount\", inplace=True)\n",
    "infos(dfc, \"vat\")"
   ]
  },
  {
   "cell_type": "code",
   "execution_count": 250,
   "id": "9036c524",
   "metadata": {},
   "outputs": [
    {
     "data": {
      "text/plain": [
       "make_model                  0\n",
       "body_type                   0\n",
       "vat                         0\n",
       "Type                        1\n",
       "Fuel                        0\n",
       "Comfort & Convenience     920\n",
       "Entertainment & Media    1374\n",
       "Extras                   2962\n",
       "Safety & Security         982\n",
       "Paint_Type                  0\n",
       "Upholstery_type          4871\n",
       "Gearing_Type                0\n",
       "Drive_chain              6858\n",
       "Emission_Class           3628\n",
       "dtype: int64"
      ]
     },
     "execution_count": 250,
     "metadata": {},
     "output_type": "execute_result"
    }
   ],
   "source": [
    "dfc.isna().sum()"
   ]
  },
  {
   "cell_type": "markdown",
   "id": "7db7fc77",
   "metadata": {},
   "source": [
    "### Upholstery"
   ]
  },
  {
   "cell_type": "code",
   "execution_count": 251,
   "id": "9a627ecd",
   "metadata": {},
   "outputs": [
    {
     "name": "stdout",
     "output_type": "stream",
     "text": [
      "Column name  :  Upholstery_type\n",
      "-----------------------------\n",
      "Number of nulls  :  4871\n",
      "% of nulls       :  30.6%\n",
      "Number of uniques:  5\n",
      "-----------------------------\n",
      "Value Counts\n",
      "\n",
      "Cloth           8423\n",
      "NaN             4871\n",
      "Part leather    1499\n",
      "Full leather    1009\n",
      "Velour            60\n",
      "alcantara         57\n",
      "Name: Upholstery_type, dtype: int64\n"
     ]
    }
   ],
   "source": [
    "infos(dfc, \"Upholstery_type\")"
   ]
  },
  {
   "cell_type": "code",
   "execution_count": 252,
   "id": "fc07e375",
   "metadata": {},
   "outputs": [
    {
     "name": "stdout",
     "output_type": "stream",
     "text": [
      "Number of NaN :  0\n",
      "------------------\n",
      "Cloth           12890\n",
      "Part leather     1505\n",
      "Full leather     1407\n",
      "Velour             60\n",
      "alcantara          57\n",
      "Name: Upholstery_type, dtype: int64\n"
     ]
    }
   ],
   "source": [
    "fill_mode2(dfc, \"make_model\", \"body_type\", \"Upholstery_type\")"
   ]
  },
  {
   "cell_type": "markdown",
   "id": "cb12ad76",
   "metadata": {},
   "source": [
    "### Comfort & Convenience"
   ]
  },
  {
   "cell_type": "code",
   "execution_count": 253,
   "id": "1db07db6",
   "metadata": {
    "scrolled": true
   },
   "outputs": [
    {
     "name": "stdout",
     "output_type": "stream",
     "text": [
      "Column name  :  Comfort & Convenience\n",
      "-----------------------------\n",
      "Number of nulls  :  920\n",
      "% of nulls       :  5.78%\n",
      "Number of uniques:  6198\n",
      "-----------------------------\n",
      "Value Counts\n",
      "\n",
      "NaN                                                                                                                                                                                                                                                                                                                                                                                                                                                                                                  920\n",
      "Air conditioning,Electrical side mirrors,Hill Holder,Power windows                                                                                                                                                                                                                                                                                                                                                                                                                                   216\n",
      "Air conditioning,Electrical side mirrors,Power windows                                                                                                                                                                                                                                                                                                                                                                                                                                               134\n",
      "Air conditioning,Power windows                                                                                                                                                                                                                                                                                                                                                                                                                                                                       130\n",
      "Air conditioning,Armrest,Automatic climate control,Cruise control,Electrical side mirrors,Leather steering wheel,Light sensor,Lumbar support,Multi-function steering wheel,Navigation system,Park Distance Control,Parking assist system sensors front,Parking assist system sensors rear,Power windows,Rain sensor,Seat heating,Start-stop system                                                                                                                                                   105\n",
      "                                                                                                                                                                                                                                                                                                                                                                                                                                                                                                    ... \n",
      "Air conditioning,Cruise control,Electrical side mirrors,Hill Holder,Leather steering wheel,Light sensor,Multi-function steering wheel,Navigation system,Park Distance Control,Parking assist system sensors rear,Power windows,Rain sensor,Split rear seats,Start-stop system,Tinted windows                                                                                                                                                                                                           1\n",
      "Air conditioning,Armrest,Automatic climate control,Cruise control,Electrical side mirrors,Heated steering wheel,Hill Holder,Leather steering wheel,Light sensor,Lumbar support,Multi-function steering wheel,Navigation system,Park Distance Control,Parking assist system camera,Parking assist system sensors front,Parking assist system sensors rear,Power windows,Rain sensor,Seat heating,Sunroof                                                                                                1\n",
      "Air conditioning,Armrest,Cruise control,Electrical side mirrors,Heated steering wheel,Hill Holder,Leather steering wheel,Light sensor,Multi-function steering wheel,Park Distance Control,Parking assist system camera,Parking assist system sensors front,Parking assist system sensors rear,Power windows,Rain sensor,Seat heating,Split rear seats,Start-stop system,Tinted windows                                                                                                                 1\n",
      "Air conditioning,Automatic climate control,Cruise control,Electrical side mirrors,Leather steering wheel,Light sensor,Multi-function steering wheel,Park Distance Control,Parking assist system sensors front,Parking assist system sensors rear,Power windows,Rain sensor,Seat heating                                                                                                                                                                                                                1\n",
      "Air conditioning,Automatic climate control,Cruise control,Electrically heated windshield,Electrical side mirrors,Electric tailgate,Heads-up display,Heated steering wheel,Hill Holder,Keyless central door lock,Leather steering wheel,Light sensor,Lumbar support,Navigation system,Park Distance Control,Parking assist system camera,Parking assist system self-steering,Parking assist system sensors front,Parking assist system sensors rear,Power windows,Rain sensor,Seat heating,Sunroof      1\n",
      "Name: Comfort & Convenience, Length: 6199, dtype: int64\n"
     ]
    }
   ],
   "source": [
    "infos(dfc, \"Comfort & Convenience\")"
   ]
  },
  {
   "cell_type": "code",
   "execution_count": 254,
   "id": "2dc5a682",
   "metadata": {
    "scrolled": true
   },
   "outputs": [
    {
     "name": "stdout",
     "output_type": "stream",
     "text": [
      "Number of NaN :  0\n",
      "------------------\n",
      "Air conditioning,Electrical side mirrors,Hill Holder,Power windows                                                                                                                                                                                                                                                                                                                                                                                                                                   389\n",
      "Air conditioning,Armrest,Automatic climate control,Cruise control,Electrical side mirrors,Leather steering wheel,Light sensor,Lumbar support,Multi-function steering wheel,Navigation system,Park Distance Control,Parking assist system sensors front,Parking assist system sensors rear,Power windows,Rain sensor,Seat heating,Start-stop system                                                                                                                                                   187\n",
      "Air conditioning,Armrest,Automatic climate control,Cruise control,Electrically adjustable seats,Electrical side mirrors,Electric tailgate,Heated steering wheel,Hill Holder,Keyless central door lock,Leather steering wheel,Light sensor,Lumbar support,Multi-function steering wheel,Navigation system,Park Distance Control,Parking assist system camera,Parking assist system sensors front,Parking assist system sensors rear,Power windows,Rain sensor,Seat heating,Start-stop system          161\n",
      "Air conditioning,Automatic climate control,Cruise control,Multi-function steering wheel,Park Distance Control,Power windows                                                                                                                                                                                                                                                                                                                                                                          160\n",
      "Air conditioning,Electrical side mirrors,Power windows                                                                                                                                                                                                                                                                                                                                                                                                                                               134\n",
      "                                                                                                                                                                                                                                                                                                                                                                                                                                                                                                    ... \n",
      "Air conditioning,Cruise control,Electrical side mirrors,Multi-function steering wheel,Park Distance Control,Parking assist system sensors front,Parking assist system sensors rear,Power windows,Start-stop system                                                                                                                                                                                                                                                                                     1\n",
      "Air conditioning,Armrest,Cruise control,Electrical side mirrors,Heated steering wheel,Hill Holder,Leather steering wheel,Light sensor,Multi-function steering wheel,Park Distance Control,Parking assist system camera,Parking assist system sensors rear,Power windows,Rain sensor,Seat heating,Split rear seats,Start-stop system,Sunroof,Tinted windows                                                                                                                                             1\n",
      "Air conditioning,Armrest,Cruise control,Hill Holder,Leather steering wheel,Multi-function steering wheel,Park Distance Control,Parking assist system sensors front,Parking assist system sensors rear,Power windows                                                                                                                                                                                                                                                                                    1\n",
      "Air conditioning,Armrest,Automatic climate control,Cruise control,Electrical side mirrors,Leather steering wheel,Multi-function steering wheel,Power windows,Rain sensor,Start-stop system,Tinted windows                                                                                                                                                                                                                                                                                              1\n",
      "Air conditioning,Automatic climate control,Cruise control,Electrically heated windshield,Electrical side mirrors,Electric tailgate,Heads-up display,Heated steering wheel,Hill Holder,Keyless central door lock,Leather steering wheel,Light sensor,Lumbar support,Navigation system,Park Distance Control,Parking assist system camera,Parking assist system self-steering,Parking assist system sensors front,Parking assist system sensors rear,Power windows,Rain sensor,Seat heating,Sunroof      1\n",
      "Name: Comfort & Convenience, Length: 6198, dtype: int64\n"
     ]
    }
   ],
   "source": [
    "fill_mode2(dfc, \"make_model\", \"body_type\", \"Comfort & Convenience\")"
   ]
  },
  {
   "cell_type": "markdown",
   "id": "3c1d8bfb",
   "metadata": {},
   "source": [
    "### Entertainment & Media"
   ]
  },
  {
   "cell_type": "code",
   "execution_count": 255,
   "id": "dbc6d255",
   "metadata": {},
   "outputs": [
    {
     "name": "stdout",
     "output_type": "stream",
     "text": [
      "Column name  :  Entertainment & Media\n",
      "-----------------------------\n",
      "Number of nulls  :  1374\n",
      "% of nulls       :  8.63%\n",
      "Number of uniques:  346\n",
      "-----------------------------\n",
      "Value Counts\n",
      "\n",
      "NaN                                                                                                 1374\n",
      "Bluetooth,Hands-free equipment,On-board computer,Radio,USB                                          1282\n",
      "Bluetooth,Hands-free equipment,MP3,On-board computer,Radio,USB                                       982\n",
      "Bluetooth,CD player,Hands-free equipment,MP3,On-board computer,Radio,USB                             783\n",
      "On-board computer,Radio                                                                              487\n",
      "                                                                                                    ... \n",
      "Bluetooth,CD player,Digital radio,Hands-free equipment,Radio                                           1\n",
      "CD player,Hands-free equipment,MP3,Radio,USB                                                           1\n",
      "MP3,Radio,Sound system,USB                                                                             1\n",
      "Bluetooth,MP3,On-board computer,Radio,Television,USB                                                   1\n",
      "Bluetooth,CD player,Hands-free equipment,MP3,On-board computer,Radio,Sound system,Television,USB       1\n",
      "Name: Entertainment & Media, Length: 347, dtype: int64\n"
     ]
    }
   ],
   "source": [
    "infos(dfc, \"Entertainment & Media\")"
   ]
  },
  {
   "cell_type": "code",
   "execution_count": 256,
   "id": "5fc91224",
   "metadata": {},
   "outputs": [
    {
     "name": "stdout",
     "output_type": "stream",
     "text": [
      "Number of NaN :  0\n",
      "------------------\n",
      "Bluetooth,Hands-free equipment,On-board computer,Radio,USB                      1742\n",
      "Bluetooth,Hands-free equipment,MP3,On-board computer,Radio,USB                  1138\n",
      "Bluetooth,CD player,Hands-free equipment,MP3,On-board computer,Radio,USB        1010\n",
      "On-board computer                                                                611\n",
      "Radio                                                                            558\n",
      "                                                                                ... \n",
      "Bluetooth,CD player,MP3                                                            1\n",
      "CD player,USB                                                                      1\n",
      "Bluetooth,CD player,Digital radio,Radio,USB                                        1\n",
      "Bluetooth,CD player,Digital radio,MP3,On-board computer,Radio,Television,USB       1\n",
      "Hands-free equipment,On-board computer,Radio,Sound system                          1\n",
      "Name: Entertainment & Media, Length: 346, dtype: int64\n"
     ]
    }
   ],
   "source": [
    "fill_mode2(dfc, \"make_model\", \"body_type\", \"Entertainment & Media\")"
   ]
  },
  {
   "cell_type": "markdown",
   "id": "9c187465",
   "metadata": {},
   "source": [
    "### Safety & Security"
   ]
  },
  {
   "cell_type": "code",
   "execution_count": 257,
   "id": "8870cdb0",
   "metadata": {},
   "outputs": [
    {
     "name": "stdout",
     "output_type": "stream",
     "text": [
      "Column name  :  Safety & Security\n",
      "-----------------------------\n",
      "Number of nulls  :  982\n",
      "% of nulls       :  6.17%\n",
      "Number of uniques:  4443\n",
      "-----------------------------\n",
      "Value Counts\n",
      "\n",
      "NaN                                                                                                                                                                                                                                                                                                                                                               982\n",
      "ABS,Central door lock,Daytime running lights,Driver-side airbag,Electronic stability control,Fog lights,Immobilizer,Isofix,Passenger-side airbag,Power steering,Side airbag,Tire pressure monitoring system,Traction control                                                                                                                                      538\n",
      "ABS,Central door lock,Daytime running lights,Driver-side airbag,Electronic stability control,Immobilizer,Isofix,Passenger-side airbag,Power steering,Side airbag,Tire pressure monitoring system,Traction control                                                                                                                                                 480\n",
      "ABS,Central door lock,Daytime running lights,Driver-side airbag,Electronic stability control,Immobilizer,Isofix,Passenger-side airbag,Power steering,Side airbag,Tire pressure monitoring system,Traction control,Xenon headlights                                                                                                                                275\n",
      "ABS,Central door lock,Daytime running lights,Driver-side airbag,Electronic stability control,Fog lights,Immobilizer,Isofix,LED Daytime Running Lights,Passenger-side airbag,Power steering,Side airbag,Tire pressure monitoring system,Traction control                                                                                                           272\n",
      "                                                                                                                                                                                                                                                                                                                                                                 ... \n",
      "ABS,Central door lock,Electronic stability control,Immobilizer,Isofix,Passenger-side airbag,Power steering,Side airbag                                                                                                                                                                                                                                              1\n",
      "ABS,Adaptive Cruise Control,Central door lock,Daytime running lights,Driver-side airbag,Electronic stability control,Emergency brake assistant,Immobilizer,Isofix,Passenger-side airbag,Power steering,Side airbag,Tire pressure monitoring system,Traction control                                                                                                 1\n",
      "ABS,Adaptive Cruise Control,Alarm system,Central door lock,Driver-side airbag,Electronic stability control,Fog lights,Immobilizer,Isofix,Lane departure warning system,LED Daytime Running Lights,Passenger-side airbag,Power steering,Side airbag,Tire pressure monitoring system,Traction control,Xenon headlights                                                1\n",
      "ABS,Adaptive Cruise Control,Central door lock,Daytime running lights,Driver-side airbag,Electronic stability control,Fog lights,Immobilizer,Isofix,Power steering,Tire pressure monitoring system,Traction control                                                                                                                                                  1\n",
      "ABS,Adaptive Cruise Control,Central door lock,Daytime running lights,Driver-side airbag,Electronic stability control,Emergency brake assistant,Fog lights,Immobilizer,Isofix,Lane departure warning system,LED Daytime Running Lights,LED Headlights,Passenger-side airbag,Power steering,Side airbag,Tire pressure monitoring system,Traffic sign recognition      1\n",
      "Name: Safety & Security, Length: 4444, dtype: int64\n"
     ]
    }
   ],
   "source": [
    "infos(dfc, \"Safety & Security\")"
   ]
  },
  {
   "cell_type": "code",
   "execution_count": 258,
   "id": "aca23d91",
   "metadata": {},
   "outputs": [
    {
     "name": "stdout",
     "output_type": "stream",
     "text": [
      "Number of NaN :  0\n",
      "------------------\n",
      "ABS,Central door lock,Daytime running lights,Driver-side airbag,Electronic stability control,Fog lights,Immobilizer,Isofix,Passenger-side airbag,Power steering,Side airbag,Tire pressure monitoring system,Traction control                                                                                                                                      730\n",
      "ABS,Central door lock,Daytime running lights,Driver-side airbag,Electronic stability control,Immobilizer,Isofix,Passenger-side airbag,Power steering,Side airbag,Tire pressure monitoring system,Traction control                                                                                                                                                 480\n",
      "ABS,Central door lock,Daytime running lights,Driver-side airbag,Electronic stability control,Fog lights,Immobilizer,Isofix,LED Daytime Running Lights,Passenger-side airbag,Power steering,Side airbag,Tire pressure monitoring system,Traction control                                                                                                           373\n",
      "ABS,Central door lock,Daytime running lights,Driver-side airbag,Electronic stability control,Immobilizer,Isofix,Passenger-side airbag,Power steering,Side airbag,Tire pressure monitoring system,Traction control,Xenon headlights                                                                                                                                352\n",
      "ABS,Central door lock,Daytime running lights,Driver-side airbag,Electronic stability control,Isofix,Passenger-side airbag,Power steering,Side airbag,Tire pressure monitoring system,Traction control                                                                                                                                                             306\n",
      "                                                                                                                                                                                                                                                                                                                                                                 ... \n",
      "ABS,Central door lock,Electronic stability control,Immobilizer,Isofix,Passenger-side airbag,Power steering,Side airbag                                                                                                                                                                                                                                              1\n",
      "ABS,Adaptive Cruise Control,Central door lock,Daytime running lights,Driver-side airbag,Electronic stability control,Emergency brake assistant,Immobilizer,Isofix,Passenger-side airbag,Power steering,Side airbag,Tire pressure monitoring system,Traction control                                                                                                 1\n",
      "ABS,Adaptive Cruise Control,Alarm system,Central door lock,Driver-side airbag,Electronic stability control,Fog lights,Immobilizer,Isofix,Lane departure warning system,LED Daytime Running Lights,Passenger-side airbag,Power steering,Side airbag,Tire pressure monitoring system,Traction control,Xenon headlights                                                1\n",
      "ABS,Adaptive Cruise Control,Central door lock,Daytime running lights,Driver-side airbag,Electronic stability control,Fog lights,Immobilizer,Isofix,Power steering,Tire pressure monitoring system,Traction control                                                                                                                                                  1\n",
      "ABS,Adaptive Cruise Control,Central door lock,Daytime running lights,Driver-side airbag,Electronic stability control,Emergency brake assistant,Fog lights,Immobilizer,Isofix,Lane departure warning system,LED Daytime Running Lights,LED Headlights,Passenger-side airbag,Power steering,Side airbag,Tire pressure monitoring system,Traffic sign recognition      1\n",
      "Name: Safety & Security, Length: 4443, dtype: int64\n"
     ]
    }
   ],
   "source": [
    "fill_mode2(dfc, \"make_model\", \"body_type\", \"Safety & Security\")"
   ]
  },
  {
   "cell_type": "markdown",
   "id": "a290103c",
   "metadata": {},
   "source": [
    "## Emission_Class"
   ]
  },
  {
   "cell_type": "code",
   "execution_count": 259,
   "id": "9bb9671e",
   "metadata": {},
   "outputs": [
    {
     "name": "stdout",
     "output_type": "stream",
     "text": [
      "Column name  :  Emission_Class\n",
      "-----------------------------\n",
      "Number of nulls  :  3628\n",
      "% of nulls       :  22.79%\n",
      "Number of uniques:  3\n",
      "-----------------------------\n",
      "Value Counts\n",
      "\n",
      "Euro 6    12173\n",
      "NaN        3628\n",
      "Euro 5       78\n",
      "Euro 4       40\n",
      "Name: Emission_Class, dtype: int64\n"
     ]
    }
   ],
   "source": [
    "infos(dfc, \"Emission_Class\")"
   ]
  },
  {
   "cell_type": "code",
   "execution_count": 260,
   "id": "e5e8d810",
   "metadata": {},
   "outputs": [
    {
     "name": "stdout",
     "output_type": "stream",
     "text": [
      "Number of NaN :  0\n",
      "------------------\n",
      "Euro 6    15799\n",
      "Euro 5       78\n",
      "Euro 4       42\n",
      "Name: Emission_Class, dtype: int64\n"
     ]
    }
   ],
   "source": [
    "fill_mode2(dfc, \"make_model\", \"body_type\", \"Emission_Class\")"
   ]
  },
  {
   "cell_type": "code",
   "execution_count": 261,
   "id": "24576483",
   "metadata": {},
   "outputs": [
    {
     "data": {
      "text/plain": [
       "make_model                  0\n",
       "body_type                   0\n",
       "vat                         0\n",
       "Type                        1\n",
       "Fuel                        0\n",
       "Comfort & Convenience       0\n",
       "Entertainment & Media       0\n",
       "Extras                   2962\n",
       "Safety & Security           0\n",
       "Paint_Type                  0\n",
       "Upholstery_type             0\n",
       "Gearing_Type                0\n",
       "Drive_chain              6858\n",
       "Emission_Class              0\n",
       "dtype: int64"
      ]
     },
     "execution_count": 261,
     "metadata": {},
     "output_type": "execute_result"
    }
   ],
   "source": [
    "dfc.isna().sum()"
   ]
  },
  {
   "cell_type": "markdown",
   "id": "16345a91",
   "metadata": {},
   "source": [
    "## Drive_chain "
   ]
  },
  {
   "cell_type": "code",
   "execution_count": 262,
   "id": "e71d02a7",
   "metadata": {},
   "outputs": [
    {
     "name": "stdout",
     "output_type": "stream",
     "text": [
      "Column name  :  Drive_chain\n",
      "-----------------------------\n",
      "Number of nulls  :  6858\n",
      "% of nulls       :  43.08%\n",
      "Number of uniques:  3\n",
      "-----------------------------\n",
      "Value Counts\n",
      "\n",
      "front    8886\n",
      "NaN      6858\n",
      "4WD       171\n",
      "rear        4\n",
      "Name: Drive_chain, dtype: int64\n"
     ]
    }
   ],
   "source": [
    "infos(dfc, \"Drive_chain\")"
   ]
  },
  {
   "cell_type": "code",
   "execution_count": 263,
   "id": "1dd59aff",
   "metadata": {},
   "outputs": [
    {
     "name": "stdout",
     "output_type": "stream",
     "text": [
      "Number of NaN :  0\n",
      "------------------\n",
      "front    15712\n",
      "4WD        203\n",
      "rear         4\n",
      "Name: Drive_chain, dtype: int64\n"
     ]
    }
   ],
   "source": [
    "fill_mode2(dfc, \"make_model\", \"body_type\", \"Drive_chain\")"
   ]
  },
  {
   "cell_type": "code",
   "execution_count": 264,
   "id": "760336e7",
   "metadata": {},
   "outputs": [
    {
     "data": {
      "text/plain": [
       "make_model                  0\n",
       "body_type                   0\n",
       "vat                         0\n",
       "Type                        1\n",
       "Fuel                        0\n",
       "Comfort & Convenience       0\n",
       "Entertainment & Media       0\n",
       "Extras                   2962\n",
       "Safety & Security           0\n",
       "Paint_Type                  0\n",
       "Upholstery_type             0\n",
       "Gearing_Type                0\n",
       "Drive_chain                 0\n",
       "Emission_Class              0\n",
       "dtype: int64"
      ]
     },
     "execution_count": 264,
     "metadata": {},
     "output_type": "execute_result"
    }
   ],
   "source": [
    "dfc.isna().sum()"
   ]
  },
  {
   "cell_type": "markdown",
   "id": "71375137",
   "metadata": {},
   "source": [
    "### Extras"
   ]
  },
  {
   "cell_type": "code",
   "execution_count": 265,
   "id": "bad23c6f",
   "metadata": {},
   "outputs": [
    {
     "name": "stdout",
     "output_type": "stream",
     "text": [
      "Column name  :  Extras\n",
      "-----------------------------\n",
      "Number of nulls  :  2962\n",
      "% of nulls       :  18.61%\n",
      "Number of uniques:  659\n",
      "-----------------------------\n",
      "Value Counts\n",
      "\n",
      "Alloy wheels                                                                                               3245\n",
      "NaN                                                                                                        2962\n",
      "Alloy wheels,Touch screen                                                                                   697\n",
      "Alloy wheels,Voice Control                                                                                  577\n",
      "Alloy wheels,Touch screen,Voice Control                                                                     541\n",
      "                                                                                                           ... \n",
      "Alloy wheels,Catalytic Converter,Shift paddles,Sport package,Sport seats,Sport suspension,Voice Control       1\n",
      "Alloy wheels,Catalytic Converter,Roof rack,Sport package,Sport seats,Trailer hitch                            1\n",
      "Alloy wheels,Catalytic Converter,Ski bag,Sport package,Voice Control                                          1\n",
      "Catalytic Converter,Roof rack,Sport seats,Sport suspension                                                    1\n",
      "Alloy wheels,Shift paddles,Ski bag,Sport seats,Sport suspension,Touch screen,Voice Control                    1\n",
      "Name: Extras, Length: 660, dtype: int64\n"
     ]
    }
   ],
   "source": [
    "infos(dfc, \"Extras\")"
   ]
  },
  {
   "cell_type": "code",
   "execution_count": 266,
   "id": "1a44db0e",
   "metadata": {},
   "outputs": [
    {
     "name": "stdout",
     "output_type": "stream",
     "text": [
      "Number of NaN :  0\n",
      "------------------\n",
      "Alloy wheels                                                                                               5794\n",
      "Alloy wheels,Touch screen                                                                                   697\n",
      "Roof rack                                                                                                   596\n",
      "Alloy wheels,Voice Control                                                                                  582\n",
      "Alloy wheels,Touch screen,Voice Control                                                                     544\n",
      "                                                                                                           ... \n",
      "Alloy wheels,Catalytic Converter,Shift paddles,Sport package,Sport seats,Sport suspension,Voice Control       1\n",
      "Alloy wheels,Catalytic Converter,Roof rack,Sport package,Sport seats,Trailer hitch                            1\n",
      "Alloy wheels,Catalytic Converter,Ski bag,Sport package,Voice Control                                          1\n",
      "Catalytic Converter,Roof rack,Sport seats,Sport suspension                                                    1\n",
      "Alloy wheels,Shift paddles,Ski bag,Sport seats,Sport suspension,Touch screen,Voice Control                    1\n",
      "Name: Extras, Length: 659, dtype: int64\n"
     ]
    }
   ],
   "source": [
    "fill_mode2(dfc, \"make_model\", \"body_type\", \"Extras\")"
   ]
  },
  {
   "cell_type": "code",
   "execution_count": 267,
   "id": "8b99c9de",
   "metadata": {},
   "outputs": [
    {
     "data": {
      "text/plain": [
       "make_model               0\n",
       "body_type                0\n",
       "vat                      0\n",
       "Type                     1\n",
       "Fuel                     0\n",
       "Comfort & Convenience    0\n",
       "Entertainment & Media    0\n",
       "Extras                   0\n",
       "Safety & Security        0\n",
       "Paint_Type               0\n",
       "Upholstery_type          0\n",
       "Gearing_Type             0\n",
       "Drive_chain              0\n",
       "Emission_Class           0\n",
       "dtype: int64"
      ]
     },
     "execution_count": 267,
     "metadata": {},
     "output_type": "execute_result"
    }
   ],
   "source": [
    "dfc.isna().sum()"
   ]
  },
  {
   "cell_type": "code",
   "execution_count": 268,
   "id": "79328ba9",
   "metadata": {},
   "outputs": [],
   "source": [
    "for i in dfc.columns:\n",
    "    df[i] = dfc[i]"
   ]
  },
  {
   "cell_type": "code",
   "execution_count": 269,
   "id": "8b585ff6",
   "metadata": {},
   "outputs": [
    {
     "data": {
      "text/plain": [
       "make_model                  0\n",
       "body_type                   0\n",
       "price                       0\n",
       "vat                         0\n",
       "km                       1024\n",
       "Type                        1\n",
       "Fuel                        0\n",
       "Comfort & Convenience       0\n",
       "Entertainment & Media       0\n",
       "Extras                      0\n",
       "Safety & Security           0\n",
       "Gears                    4712\n",
       "Previous_Owners          6640\n",
       "hp_kW                      88\n",
       "Paint_Type                  0\n",
       "Upholstery_type             0\n",
       "Nr_of_Doors               212\n",
       "Nr_of_Seats               977\n",
       "Gearing_Type                0\n",
       "Displacement_cc           496\n",
       "Weight_kg                6974\n",
       "Drive_chain                 0\n",
       "cons_comb                2033\n",
       "CO2_Emission             2436\n",
       "Emission_Class              0\n",
       "dtype: int64"
      ]
     },
     "execution_count": 269,
     "metadata": {},
     "output_type": "execute_result"
    }
   ],
   "source": [
    "df.isna().sum()"
   ]
  },
  {
   "cell_type": "markdown",
   "id": "ed838b13",
   "metadata": {},
   "source": [
    "## Handling with Numerical Features"
   ]
  },
  {
   "cell_type": "code",
   "execution_count": 270,
   "id": "7f1bde81",
   "metadata": {},
   "outputs": [
    {
     "data": {
      "text/html": [
       "<div>\n",
       "<style scoped>\n",
       "    .dataframe tbody tr th:only-of-type {\n",
       "        vertical-align: middle;\n",
       "    }\n",
       "\n",
       "    .dataframe tbody tr th {\n",
       "        vertical-align: top;\n",
       "    }\n",
       "\n",
       "    .dataframe thead th {\n",
       "        text-align: right;\n",
       "    }\n",
       "</style>\n",
       "<table border=\"1\" class=\"dataframe\">\n",
       "  <thead>\n",
       "    <tr style=\"text-align: right;\">\n",
       "      <th></th>\n",
       "      <th>1730</th>\n",
       "      <th>13230</th>\n",
       "      <th>15014</th>\n",
       "    </tr>\n",
       "  </thead>\n",
       "  <tbody>\n",
       "    <tr>\n",
       "      <th>make_model</th>\n",
       "      <td>Audi A1</td>\n",
       "      <td>Renault Clio</td>\n",
       "      <td>Renault Espace</td>\n",
       "    </tr>\n",
       "    <tr>\n",
       "      <th>body_type</th>\n",
       "      <td>Sedans</td>\n",
       "      <td>Station wagon</td>\n",
       "      <td>Van</td>\n",
       "    </tr>\n",
       "    <tr>\n",
       "      <th>price</th>\n",
       "      <td>16950</td>\n",
       "      <td>14870</td>\n",
       "      <td>26990</td>\n",
       "    </tr>\n",
       "    <tr>\n",
       "      <th>vat</th>\n",
       "      <td>VAT deductible</td>\n",
       "      <td>VAT deductible</td>\n",
       "      <td>Non-Discount</td>\n",
       "    </tr>\n",
       "    <tr>\n",
       "      <th>km</th>\n",
       "      <td>20690.0</td>\n",
       "      <td>24473.0</td>\n",
       "      <td>2751.0</td>\n",
       "    </tr>\n",
       "    <tr>\n",
       "      <th>Type</th>\n",
       "      <td>Used</td>\n",
       "      <td>Used</td>\n",
       "      <td>Used</td>\n",
       "    </tr>\n",
       "    <tr>\n",
       "      <th>Fuel</th>\n",
       "      <td>Diesel</td>\n",
       "      <td>Benzine</td>\n",
       "      <td>Diesel</td>\n",
       "    </tr>\n",
       "    <tr>\n",
       "      <th>Comfort &amp; Convenience</th>\n",
       "      <td>Air conditioning,Armrest,Automatic climate con...</td>\n",
       "      <td>Air conditioning,Cruise control,Hill Holder,Le...</td>\n",
       "      <td>Air conditioning,Automatic climate control,Nav...</td>\n",
       "    </tr>\n",
       "    <tr>\n",
       "      <th>Entertainment &amp; Media</th>\n",
       "      <td>Bluetooth,Hands-free equipment,On-board comput...</td>\n",
       "      <td>Bluetooth,Hands-free equipment,MP3,On-board co...</td>\n",
       "      <td>Bluetooth,Hands-free equipment,On-board comput...</td>\n",
       "    </tr>\n",
       "    <tr>\n",
       "      <th>Extras</th>\n",
       "      <td>Alloy wheels,Sport seats,Voice Control</td>\n",
       "      <td>Alloy wheels,Roof rack,Touch screen</td>\n",
       "      <td>Alloy wheels</td>\n",
       "    </tr>\n",
       "    <tr>\n",
       "      <th>Safety &amp; Security</th>\n",
       "      <td>ABS,Central door lock,Daytime running lights,D...</td>\n",
       "      <td>ABS,Central door lock,Daytime running lights,D...</td>\n",
       "      <td>Fog lights</td>\n",
       "    </tr>\n",
       "    <tr>\n",
       "      <th>Gears</th>\n",
       "      <td>5.0</td>\n",
       "      <td>NaN</td>\n",
       "      <td>NaN</td>\n",
       "    </tr>\n",
       "    <tr>\n",
       "      <th>Previous_Owners</th>\n",
       "      <td>1.0</td>\n",
       "      <td>NaN</td>\n",
       "      <td>NaN</td>\n",
       "    </tr>\n",
       "    <tr>\n",
       "      <th>hp_kW</th>\n",
       "      <td>66.0</td>\n",
       "      <td>87.0</td>\n",
       "      <td>118.0</td>\n",
       "    </tr>\n",
       "    <tr>\n",
       "      <th>Paint_Type</th>\n",
       "      <td>Metallic</td>\n",
       "      <td>Metallic</td>\n",
       "      <td>Metallic</td>\n",
       "    </tr>\n",
       "    <tr>\n",
       "      <th>Upholstery_type</th>\n",
       "      <td>Cloth</td>\n",
       "      <td>Cloth</td>\n",
       "      <td>Full leather</td>\n",
       "    </tr>\n",
       "    <tr>\n",
       "      <th>Nr_of_Doors</th>\n",
       "      <td>4.0</td>\n",
       "      <td>5.0</td>\n",
       "      <td>5.0</td>\n",
       "    </tr>\n",
       "    <tr>\n",
       "      <th>Nr_of_Seats</th>\n",
       "      <td>5.0</td>\n",
       "      <td>5.0</td>\n",
       "      <td>7.0</td>\n",
       "    </tr>\n",
       "    <tr>\n",
       "      <th>Gearing_Type</th>\n",
       "      <td>Manual</td>\n",
       "      <td>Automatic</td>\n",
       "      <td>Automatic</td>\n",
       "    </tr>\n",
       "    <tr>\n",
       "      <th>Displacement_cc</th>\n",
       "      <td>1422.0</td>\n",
       "      <td>1197.0</td>\n",
       "      <td>1598.0</td>\n",
       "    </tr>\n",
       "    <tr>\n",
       "      <th>Weight_kg</th>\n",
       "      <td>1165.0</td>\n",
       "      <td>1270.0</td>\n",
       "      <td>NaN</td>\n",
       "    </tr>\n",
       "    <tr>\n",
       "      <th>Drive_chain</th>\n",
       "      <td>front</td>\n",
       "      <td>front</td>\n",
       "      <td>front</td>\n",
       "    </tr>\n",
       "    <tr>\n",
       "      <th>cons_comb</th>\n",
       "      <td>3.8</td>\n",
       "      <td>5.4</td>\n",
       "      <td>4.6</td>\n",
       "    </tr>\n",
       "    <tr>\n",
       "      <th>CO2_Emission</th>\n",
       "      <td>99.0</td>\n",
       "      <td>120.0</td>\n",
       "      <td>120.0</td>\n",
       "    </tr>\n",
       "    <tr>\n",
       "      <th>Emission_Class</th>\n",
       "      <td>Euro 6</td>\n",
       "      <td>Euro 6</td>\n",
       "      <td>Euro 6</td>\n",
       "    </tr>\n",
       "  </tbody>\n",
       "</table>\n",
       "</div>"
      ],
      "text/plain": [
       "                                                                   1730   \\\n",
       "make_model                                                       Audi A1   \n",
       "body_type                                                         Sedans   \n",
       "price                                                              16950   \n",
       "vat                                                       VAT deductible   \n",
       "km                                                               20690.0   \n",
       "Type                                                                Used   \n",
       "Fuel                                                              Diesel   \n",
       "Comfort & Convenience  Air conditioning,Armrest,Automatic climate con...   \n",
       "Entertainment & Media  Bluetooth,Hands-free equipment,On-board comput...   \n",
       "Extras                            Alloy wheels,Sport seats,Voice Control   \n",
       "Safety & Security      ABS,Central door lock,Daytime running lights,D...   \n",
       "Gears                                                                5.0   \n",
       "Previous_Owners                                                      1.0   \n",
       "hp_kW                                                               66.0   \n",
       "Paint_Type                                                      Metallic   \n",
       "Upholstery_type                                                    Cloth   \n",
       "Nr_of_Doors                                                          4.0   \n",
       "Nr_of_Seats                                                          5.0   \n",
       "Gearing_Type                                                      Manual   \n",
       "Displacement_cc                                                   1422.0   \n",
       "Weight_kg                                                         1165.0   \n",
       "Drive_chain                                                        front   \n",
       "cons_comb                                                            3.8   \n",
       "CO2_Emission                                                        99.0   \n",
       "Emission_Class                                                    Euro 6   \n",
       "\n",
       "                                                                   13230  \\\n",
       "make_model                                                  Renault Clio   \n",
       "body_type                                                  Station wagon   \n",
       "price                                                              14870   \n",
       "vat                                                       VAT deductible   \n",
       "km                                                               24473.0   \n",
       "Type                                                                Used   \n",
       "Fuel                                                             Benzine   \n",
       "Comfort & Convenience  Air conditioning,Cruise control,Hill Holder,Le...   \n",
       "Entertainment & Media  Bluetooth,Hands-free equipment,MP3,On-board co...   \n",
       "Extras                               Alloy wheels,Roof rack,Touch screen   \n",
       "Safety & Security      ABS,Central door lock,Daytime running lights,D...   \n",
       "Gears                                                                NaN   \n",
       "Previous_Owners                                                      NaN   \n",
       "hp_kW                                                               87.0   \n",
       "Paint_Type                                                      Metallic   \n",
       "Upholstery_type                                                    Cloth   \n",
       "Nr_of_Doors                                                          5.0   \n",
       "Nr_of_Seats                                                          5.0   \n",
       "Gearing_Type                                                   Automatic   \n",
       "Displacement_cc                                                   1197.0   \n",
       "Weight_kg                                                         1270.0   \n",
       "Drive_chain                                                        front   \n",
       "cons_comb                                                            5.4   \n",
       "CO2_Emission                                                       120.0   \n",
       "Emission_Class                                                    Euro 6   \n",
       "\n",
       "                                                                   15014  \n",
       "make_model                                                Renault Espace  \n",
       "body_type                                                            Van  \n",
       "price                                                              26990  \n",
       "vat                                                         Non-Discount  \n",
       "km                                                                2751.0  \n",
       "Type                                                                Used  \n",
       "Fuel                                                              Diesel  \n",
       "Comfort & Convenience  Air conditioning,Automatic climate control,Nav...  \n",
       "Entertainment & Media  Bluetooth,Hands-free equipment,On-board comput...  \n",
       "Extras                                                      Alloy wheels  \n",
       "Safety & Security                                             Fog lights  \n",
       "Gears                                                                NaN  \n",
       "Previous_Owners                                                      NaN  \n",
       "hp_kW                                                              118.0  \n",
       "Paint_Type                                                      Metallic  \n",
       "Upholstery_type                                             Full leather  \n",
       "Nr_of_Doors                                                          5.0  \n",
       "Nr_of_Seats                                                          7.0  \n",
       "Gearing_Type                                                   Automatic  \n",
       "Displacement_cc                                                   1598.0  \n",
       "Weight_kg                                                            NaN  \n",
       "Drive_chain                                                        front  \n",
       "cons_comb                                                            4.6  \n",
       "CO2_Emission                                                       120.0  \n",
       "Emission_Class                                                    Euro 6  "
      ]
     },
     "execution_count": 270,
     "metadata": {},
     "output_type": "execute_result"
    }
   ],
   "source": [
    "df.sample(3).T"
   ]
  },
  {
   "cell_type": "markdown",
   "id": "eb453907",
   "metadata": {},
   "source": [
    "### Nr. of Doors"
   ]
  },
  {
   "cell_type": "code",
   "execution_count": 271,
   "id": "a29137e8",
   "metadata": {},
   "outputs": [
    {
     "name": "stdout",
     "output_type": "stream",
     "text": [
      "Column name  :  Nr_of_Doors\n",
      "-----------------------------\n",
      "Number of nulls  :  212\n",
      "% of nulls       :  1.33%\n",
      "Number of uniques:  6\n",
      "-----------------------------\n",
      "Value Counts\n",
      "\n",
      "5.0    11575\n",
      "4.0     3079\n",
      "3.0      832\n",
      "2.0      219\n",
      "NaN      212\n",
      "1.0        1\n",
      "7.0        1\n",
      "Name: Nr_of_Doors, dtype: int64\n"
     ]
    }
   ],
   "source": [
    "infos(df, \"Nr_of_Doors\")"
   ]
  },
  {
   "cell_type": "code",
   "execution_count": 272,
   "id": "92cddd46",
   "metadata": {},
   "outputs": [],
   "source": [
    "df[\"Nr_of_Doors\"].replace(1,np.nan, inplace=True)\n",
    "df[\"Nr_of_Doors\"].replace(7,np.nan, inplace=True)"
   ]
  },
  {
   "cell_type": "code",
   "execution_count": 273,
   "id": "e332e18b",
   "metadata": {},
   "outputs": [
    {
     "name": "stdout",
     "output_type": "stream",
     "text": [
      "Column name  :  Nr_of_Doors\n",
      "-----------------------------\n",
      "Number of nulls  :  214\n",
      "% of nulls       :  1.34%\n",
      "Number of uniques:  4\n",
      "-----------------------------\n",
      "Value Counts\n",
      "\n",
      "5.0    11575\n",
      "4.0     3079\n",
      "3.0      832\n",
      "2.0      219\n",
      "NaN      214\n",
      "Name: Nr_of_Doors, dtype: int64\n"
     ]
    }
   ],
   "source": [
    "infos(df, \"Nr_of_Doors\")"
   ]
  },
  {
   "cell_type": "code",
   "execution_count": 274,
   "id": "624ec228",
   "metadata": {
    "scrolled": true
   },
   "outputs": [
    {
     "name": "stdout",
     "output_type": "stream",
     "text": [
      "Number of NaN : 0\n",
      "---------------------\n",
      "5.0    11788\n",
      "4.0     3079\n",
      "3.0      833\n",
      "2.0      219\n",
      "Name: Nr_of_Doors, dtype: int64\n"
     ]
    }
   ],
   "source": [
    "fill_mode(df, \"body_type\", \"Nr_of_Doors\")"
   ]
  },
  {
   "cell_type": "code",
   "execution_count": 275,
   "id": "aa4f1047",
   "metadata": {},
   "outputs": [
    {
     "name": "stdout",
     "output_type": "stream",
     "text": [
      "Column name  :  Nr_of_Doors\n",
      "-----------------------------\n",
      "Number of nulls  :  0\n",
      "% of nulls       :  0.0%\n",
      "Number of uniques:  4\n",
      "-----------------------------\n",
      "Value Counts\n",
      "\n",
      "5.0    11788\n",
      "4.0     3079\n",
      "3.0      833\n",
      "2.0      219\n",
      "Name: Nr_of_Doors, dtype: int64\n"
     ]
    }
   ],
   "source": [
    "infos(df, \"Nr_of_Doors\")"
   ]
  },
  {
   "cell_type": "markdown",
   "id": "70872f57",
   "metadata": {},
   "source": [
    "### \"Nr. of Seats\""
   ]
  },
  {
   "cell_type": "code",
   "execution_count": 276,
   "id": "2ccae835",
   "metadata": {},
   "outputs": [
    {
     "name": "stdout",
     "output_type": "stream",
     "text": [
      "Column name  :  Nr_of_Seats\n",
      "-----------------------------\n",
      "Number of nulls  :  977\n",
      "% of nulls       :  6.14%\n",
      "Number of uniques:  6\n",
      "-----------------------------\n",
      "Value Counts\n",
      "\n",
      "5.0    13336\n",
      "4.0     1125\n",
      "NaN      977\n",
      "7.0      362\n",
      "2.0      116\n",
      "6.0        2\n",
      "3.0        1\n",
      "Name: Nr_of_Seats, dtype: int64\n"
     ]
    }
   ],
   "source": [
    "infos(df, \"Nr_of_Seats\")"
   ]
  },
  {
   "cell_type": "code",
   "execution_count": 277,
   "id": "21f782bd",
   "metadata": {},
   "outputs": [
    {
     "name": "stdout",
     "output_type": "stream",
     "text": [
      "Column name  :  Nr_of_Seats\n",
      "-----------------------------\n",
      "Number of nulls  :  980\n",
      "% of nulls       :  6.16%\n",
      "Number of uniques:  4\n",
      "-----------------------------\n",
      "Value Counts\n",
      "\n",
      "5.0    13336\n",
      "4.0     1125\n",
      "NaN      980\n",
      "7.0      362\n",
      "2.0      116\n",
      "Name: Nr_of_Seats, dtype: int64\n"
     ]
    }
   ],
   "source": [
    "df[\"Nr_of_Seats\"].replace(6,np.nan, inplace=True)\n",
    "df[\"Nr_of_Seats\"].replace(3,np.nan, inplace=True)\n",
    "infos(df, \"Nr_of_Seats\")"
   ]
  },
  {
   "cell_type": "code",
   "execution_count": 278,
   "id": "c993f6ec",
   "metadata": {},
   "outputs": [
    {
     "name": "stdout",
     "output_type": "stream",
     "text": [
      "Number of NaN : 0\n",
      "---------------------\n",
      "5.0    14315\n",
      "4.0     1126\n",
      "7.0      362\n",
      "2.0      116\n",
      "Name: Nr_of_Seats, dtype: int64\n"
     ]
    }
   ],
   "source": [
    "fill_mode(df, \"body_type\", \"Nr_of_Seats\")"
   ]
  },
  {
   "cell_type": "code",
   "execution_count": 279,
   "id": "ca50193c",
   "metadata": {},
   "outputs": [
    {
     "data": {
      "text/plain": [
       "make_model                  0\n",
       "body_type                   0\n",
       "price                       0\n",
       "vat                         0\n",
       "km                       1024\n",
       "Type                        1\n",
       "Fuel                        0\n",
       "Comfort & Convenience       0\n",
       "Entertainment & Media       0\n",
       "Extras                      0\n",
       "Safety & Security           0\n",
       "Gears                    4712\n",
       "Previous_Owners          6640\n",
       "hp_kW                      88\n",
       "Paint_Type                  0\n",
       "Upholstery_type             0\n",
       "Nr_of_Doors                 0\n",
       "Nr_of_Seats                 0\n",
       "Gearing_Type                0\n",
       "Displacement_cc           496\n",
       "Weight_kg                6974\n",
       "Drive_chain                 0\n",
       "cons_comb                2033\n",
       "CO2_Emission             2436\n",
       "Emission_Class              0\n",
       "dtype: int64"
      ]
     },
     "execution_count": 279,
     "metadata": {},
     "output_type": "execute_result"
    }
   ],
   "source": [
    "df.isna().sum()"
   ]
  },
  {
   "cell_type": "markdown",
   "id": "9e91aa5f",
   "metadata": {},
   "source": [
    "## km"
   ]
  },
  {
   "cell_type": "code",
   "execution_count": 280,
   "id": "1c95224d",
   "metadata": {},
   "outputs": [
    {
     "name": "stdout",
     "output_type": "stream",
     "text": [
      "Column name  :  km\n",
      "-----------------------------\n",
      "Number of nulls  :  1024\n",
      "% of nulls       :  6.43%\n",
      "Number of uniques:  6689\n",
      "-----------------------------\n",
      "Value Counts\n",
      "\n",
      "10.0       1045\n",
      "NaN        1024\n",
      "1.0         367\n",
      "5.0         170\n",
      "50.0        148\n",
      "           ... \n",
      "67469.0       1\n",
      "43197.0       1\n",
      "10027.0       1\n",
      "35882.0       1\n",
      "57.0          1\n",
      "Name: km, Length: 6690, dtype: int64\n"
     ]
    }
   ],
   "source": [
    "infos(df, \"km\")"
   ]
  },
  {
   "cell_type": "code",
   "execution_count": 281,
   "id": "32546255",
   "metadata": {},
   "outputs": [
    {
     "name": "stdout",
     "output_type": "stream",
     "text": [
      "Number of NaN : 0\n",
      "---------------------\n",
      "10.0       2045\n",
      "1.0         367\n",
      "5.0         170\n",
      "50.0        148\n",
      "100.0       139\n",
      "           ... \n",
      "67469.0       1\n",
      "43197.0       1\n",
      "10027.0       1\n",
      "35882.0       1\n",
      "57.0          1\n",
      "Name: km, Length: 6689, dtype: int64\n"
     ]
    }
   ],
   "source": [
    "fill_mode(df,  \"body_type\", \"km\")"
   ]
  },
  {
   "cell_type": "code",
   "execution_count": 282,
   "id": "cb2978b8",
   "metadata": {},
   "outputs": [
    {
     "data": {
      "text/plain": [
       "make_model                  0\n",
       "body_type                   0\n",
       "price                       0\n",
       "vat                         0\n",
       "km                          0\n",
       "Type                        1\n",
       "Fuel                        0\n",
       "Comfort & Convenience       0\n",
       "Entertainment & Media       0\n",
       "Extras                      0\n",
       "Safety & Security           0\n",
       "Gears                    4712\n",
       "Previous_Owners          6640\n",
       "hp_kW                      88\n",
       "Paint_Type                  0\n",
       "Upholstery_type             0\n",
       "Nr_of_Doors                 0\n",
       "Nr_of_Seats                 0\n",
       "Gearing_Type                0\n",
       "Displacement_cc           496\n",
       "Weight_kg                6974\n",
       "Drive_chain                 0\n",
       "cons_comb                2033\n",
       "CO2_Emission             2436\n",
       "Emission_Class              0\n",
       "dtype: int64"
      ]
     },
     "execution_count": 282,
     "metadata": {},
     "output_type": "execute_result"
    }
   ],
   "source": [
    "df.isna().sum()"
   ]
  },
  {
   "cell_type": "markdown",
   "id": "c03ed245",
   "metadata": {},
   "source": [
    "### Gears "
   ]
  },
  {
   "cell_type": "code",
   "execution_count": 283,
   "id": "f9bde23f",
   "metadata": {},
   "outputs": [
    {
     "name": "stdout",
     "output_type": "stream",
     "text": [
      "Column name  :  Gears\n",
      "-----------------------------\n",
      "Number of nulls  :  4712\n",
      "% of nulls       :  29.6%\n",
      "Number of uniques:  10\n",
      "-----------------------------\n",
      "Value Counts\n",
      "\n",
      "6.0     5822\n",
      "NaN     4712\n",
      "5.0     3239\n",
      "7.0     1908\n",
      "8.0      224\n",
      "9.0        6\n",
      "1.0        2\n",
      "3.0        2\n",
      "4.0        2\n",
      "2.0        1\n",
      "50.0       1\n",
      "Name: Gears, dtype: int64\n"
     ]
    }
   ],
   "source": [
    "infos(df, \"Gears\")"
   ]
  },
  {
   "cell_type": "code",
   "execution_count": 284,
   "id": "705aa55d",
   "metadata": {},
   "outputs": [
    {
     "name": "stdout",
     "output_type": "stream",
     "text": [
      "Column name  :  Gears\n",
      "-----------------------------\n",
      "Number of nulls  :  4726\n",
      "% of nulls       :  29.69%\n",
      "Number of uniques:  4\n",
      "-----------------------------\n",
      "Value Counts\n",
      "\n",
      "6.0    5822\n",
      "NaN    4726\n",
      "5.0    3239\n",
      "7.0    1908\n",
      "8.0     224\n",
      "Name: Gears, dtype: int64\n"
     ]
    }
   ],
   "source": [
    "df.loc[(df[\"Gears\"]<5)|(df[\"Gears\"]>8), \"Gears\"] = np.nan\n",
    "infos(df, \"Gears\")"
   ]
  },
  {
   "cell_type": "code",
   "execution_count": 285,
   "id": "471e9a2e",
   "metadata": {
    "scrolled": true
   },
   "outputs": [
    {
     "name": "stdout",
     "output_type": "stream",
     "text": [
      "Number of NaN : 0\n",
      "---------------------\n",
      "6.0    9288\n",
      "5.0    4499\n",
      "7.0    1908\n",
      "8.0     224\n",
      "Name: Gears, dtype: int64\n"
     ]
    }
   ],
   "source": [
    "fill_mode(df,  \"body_type\", \"Gears\")"
   ]
  },
  {
   "cell_type": "code",
   "execution_count": 286,
   "id": "414bd24e",
   "metadata": {},
   "outputs": [
    {
     "data": {
      "text/plain": [
       "make_model                  0\n",
       "body_type                   0\n",
       "price                       0\n",
       "vat                         0\n",
       "km                          0\n",
       "Type                        1\n",
       "Fuel                        0\n",
       "Comfort & Convenience       0\n",
       "Entertainment & Media       0\n",
       "Extras                      0\n",
       "Safety & Security           0\n",
       "Gears                       0\n",
       "Previous_Owners          6640\n",
       "hp_kW                      88\n",
       "Paint_Type                  0\n",
       "Upholstery_type             0\n",
       "Nr_of_Doors                 0\n",
       "Nr_of_Seats                 0\n",
       "Gearing_Type                0\n",
       "Displacement_cc           496\n",
       "Weight_kg                6974\n",
       "Drive_chain                 0\n",
       "cons_comb                2033\n",
       "CO2_Emission             2436\n",
       "Emission_Class              0\n",
       "dtype: int64"
      ]
     },
     "execution_count": 286,
     "metadata": {},
     "output_type": "execute_result"
    }
   ],
   "source": [
    "df.isna().sum()"
   ]
  },
  {
   "cell_type": "markdown",
   "id": "996e11ca",
   "metadata": {},
   "source": [
    "### Weight_kg "
   ]
  },
  {
   "cell_type": "code",
   "execution_count": 287,
   "id": "191db096",
   "metadata": {},
   "outputs": [
    {
     "name": "stdout",
     "output_type": "stream",
     "text": [
      "Column name  :  Weight_kg\n",
      "-----------------------------\n",
      "Number of nulls  :  6974\n",
      "% of nulls       :  43.81%\n",
      "Number of uniques:  434\n",
      "-----------------------------\n",
      "Value Counts\n",
      "\n",
      "NaN       6974\n",
      "1163.0     574\n",
      "1360.0     356\n",
      "1165.0     301\n",
      "1335.0     242\n",
      "          ... \n",
      "1960.0       1\n",
      "1258.0       1\n",
      "1167.0       1\n",
      "1331.0       1\n",
      "2037.0       1\n",
      "Name: Weight_kg, Length: 435, dtype: int64\n"
     ]
    }
   ],
   "source": [
    "infos(df, \"Weight_kg\")"
   ]
  },
  {
   "cell_type": "code",
   "execution_count": 288,
   "id": "d86224ab",
   "metadata": {},
   "outputs": [
    {
     "data": {
      "text/plain": [
       "count    8945.000000\n",
       "mean     1351.106540\n",
       "std       220.661532\n",
       "min         1.000000\n",
       "25%      1165.000000\n",
       "50%      1288.000000\n",
       "75%      1487.000000\n",
       "max      2471.000000\n",
       "Name: Weight_kg, dtype: float64"
      ]
     },
     "execution_count": 288,
     "metadata": {},
     "output_type": "execute_result"
    }
   ],
   "source": [
    "df[\"Weight_kg\"].describe()"
   ]
  },
  {
   "cell_type": "code",
   "execution_count": 289,
   "id": "aae73862",
   "metadata": {},
   "outputs": [
    {
     "data": {
      "text/plain": [
       "8355       1.0\n",
       "12779      1.0\n",
       "1143     102.0\n",
       "8857     840.0\n",
       "14313    900.0\n",
       "Name: Weight_kg, dtype: float64"
      ]
     },
     "execution_count": 289,
     "metadata": {},
     "output_type": "execute_result"
    }
   ],
   "source": [
    "df[\"Weight_kg\"].sort_values().head()"
   ]
  },
  {
   "cell_type": "code",
   "execution_count": 290,
   "id": "3c681361",
   "metadata": {},
   "outputs": [
    {
     "data": {
      "text/plain": [
       "count    8942.000000\n",
       "mean     1351.548200\n",
       "std       219.375045\n",
       "min       840.000000\n",
       "25%      1166.000000\n",
       "50%      1288.000000\n",
       "75%      1487.000000\n",
       "max      2471.000000\n",
       "Name: Weight_kg, dtype: float64"
      ]
     },
     "execution_count": 290,
     "metadata": {},
     "output_type": "execute_result"
    }
   ],
   "source": [
    "df.loc[df[\"Weight_kg\"]<800, \"Weight_kg\"] = np.nan\n",
    "df[\"Weight_kg\"].describe()"
   ]
  },
  {
   "cell_type": "code",
   "execution_count": 291,
   "id": "2bf176ea",
   "metadata": {},
   "outputs": [
    {
     "name": "stdout",
     "output_type": "stream",
     "text": [
      "Number of NaN :  0\n",
      "------------------\n",
      "1395.477301    991\n",
      "1624.584882    855\n",
      "1175.411263    733\n",
      "1397.233846    635\n",
      "1259.453175    622\n",
      "              ... \n",
      "1258.000000      1\n",
      "1167.000000      1\n",
      "1331.000000      1\n",
      "1132.000000      1\n",
      "2037.000000      1\n",
      "Name: Weight_kg, Length: 460, dtype: int64\n"
     ]
    }
   ],
   "source": [
    "fill_mean(df, \"make_model\", \"body_type\", \"Weight_kg\")"
   ]
  },
  {
   "cell_type": "markdown",
   "id": "7d2e49fb",
   "metadata": {},
   "source": [
    "###  Displacement_cc"
   ]
  },
  {
   "cell_type": "code",
   "execution_count": 292,
   "id": "4ea2d65b",
   "metadata": {
    "scrolled": true
   },
   "outputs": [
    {
     "name": "stdout",
     "output_type": "stream",
     "text": [
      "Column name  :  Displacement_cc\n",
      "-----------------------------\n",
      "Number of nulls  :  496\n",
      "% of nulls       :  3.12%\n",
      "Number of uniques:  77\n",
      "-----------------------------\n",
      "Value Counts\n",
      "\n",
      "1598.0    4761\n",
      "999.0     2438\n",
      "1398.0    1314\n",
      "1399.0     749\n",
      "1229.0     677\n",
      "          ... \n",
      "122.0        1\n",
      "1198.0       1\n",
      "1195.0       1\n",
      "2967.0       1\n",
      "1800.0       1\n",
      "Name: Displacement_cc, Length: 78, dtype: int64\n"
     ]
    }
   ],
   "source": [
    "infos(df, \"Displacement_cc\")"
   ]
  },
  {
   "cell_type": "code",
   "execution_count": 293,
   "id": "2b6b23fa",
   "metadata": {},
   "outputs": [
    {
     "data": {
      "text/plain": [
       "count    15423.000000\n",
       "mean      1423.540881\n",
       "std        333.530658\n",
       "min          1.000000\n",
       "25%       1229.000000\n",
       "50%       1461.000000\n",
       "75%       1598.000000\n",
       "max      16000.000000\n",
       "Name: Displacement_cc, dtype: float64"
      ]
     },
     "execution_count": 293,
     "metadata": {},
     "output_type": "execute_result"
    }
   ],
   "source": [
    "df[\"Displacement_cc\"].describe()"
   ]
  },
  {
   "cell_type": "code",
   "execution_count": 294,
   "id": "720fa4a6",
   "metadata": {
    "scrolled": true
   },
   "outputs": [
    {
     "data": {
      "text/plain": [
       "12796      1.0\n",
       "12768      1.0\n",
       "13904      1.0\n",
       "12823      1.0\n",
       "12790      1.0\n",
       "14319      1.0\n",
       "14284      1.0\n",
       "12849      1.0\n",
       "12848      1.0\n",
       "12781      1.0\n",
       "12786      1.0\n",
       "12467      1.0\n",
       "14328      1.0\n",
       "14326      1.0\n",
       "12835      1.0\n",
       "12750      1.0\n",
       "12783      1.0\n",
       "14314      1.0\n",
       "14325      1.0\n",
       "14315      1.0\n",
       "14324      1.0\n",
       "14322      1.0\n",
       "14321      1.0\n",
       "14327      1.0\n",
       "12473      1.0\n",
       "14320      1.0\n",
       "12499      1.0\n",
       "12484      1.0\n",
       "12815      1.0\n",
       "12554      1.0\n",
       "12798      1.0\n",
       "12769      1.0\n",
       "12670      1.0\n",
       "12604      1.0\n",
       "12501      1.0\n",
       "12800      1.0\n",
       "10559      2.0\n",
       "14198      2.0\n",
       "13912     54.0\n",
       "10194    122.0\n",
       "7812     139.0\n",
       "7810     139.0\n",
       "7811     139.0\n",
       "7809     139.0\n",
       "8128     140.0\n",
       "15578    160.0\n",
       "15575    160.0\n",
       "15576    160.0\n",
       "15577    160.0\n",
       "15579    160.0\n",
       "15574    160.0\n",
       "13653    890.0\n",
       "14749    898.0\n",
       "14725    898.0\n",
       "14761    898.0\n",
       "14724    898.0\n",
       "14762    898.0\n",
       "14723    898.0\n",
       "14722    898.0\n",
       "14763    898.0\n",
       "Name: Displacement_cc, dtype: float64"
      ]
     },
     "execution_count": 294,
     "metadata": {},
     "output_type": "execute_result"
    }
   ],
   "source": [
    "df[\"Displacement_cc\"].sort_values().head(60)"
   ]
  },
  {
   "cell_type": "code",
   "execution_count": 295,
   "id": "a2513475",
   "metadata": {},
   "outputs": [
    {
     "data": {
      "text/plain": [
       "count    15371.000000\n",
       "mean      1428.177022\n",
       "std        324.321160\n",
       "min        898.000000\n",
       "25%       1229.000000\n",
       "50%       1461.000000\n",
       "75%       1598.000000\n",
       "max      16000.000000\n",
       "Name: Displacement_cc, dtype: float64"
      ]
     },
     "execution_count": 295,
     "metadata": {},
     "output_type": "execute_result"
    }
   ],
   "source": [
    "df.loc[df[\"Displacement_cc\"]<898, \"Displacement_cc\"] = np.nan\n",
    "df[\"Displacement_cc\"].describe()"
   ]
  },
  {
   "cell_type": "code",
   "execution_count": 296,
   "id": "9d00e77a",
   "metadata": {},
   "outputs": [
    {
     "name": "stdout",
     "output_type": "stream",
     "text": [
      "Number of NaN :  0\n",
      "------------------\n",
      "1598.0     4761\n",
      "999.0      2438\n",
      "1398.0     1314\n",
      "1399.0      749\n",
      "1229.0      677\n",
      "           ... \n",
      "1195.0        1\n",
      "2967.0        1\n",
      "1856.0        1\n",
      "16000.0       1\n",
      "1800.0        1\n",
      "Name: Displacement_cc, Length: 94, dtype: int64\n"
     ]
    }
   ],
   "source": [
    "fill_mean(df, \"make_model\", \"body_type\", \"Displacement_cc\")"
   ]
  },
  {
   "cell_type": "code",
   "execution_count": 297,
   "id": "c2018999",
   "metadata": {
    "scrolled": false
   },
   "outputs": [
    {
     "data": {
      "text/plain": [
       "make_model                  0\n",
       "body_type                   0\n",
       "price                       0\n",
       "vat                         0\n",
       "km                          0\n",
       "Type                        1\n",
       "Fuel                        0\n",
       "Comfort & Convenience       0\n",
       "Entertainment & Media       0\n",
       "Extras                      0\n",
       "Safety & Security           0\n",
       "Gears                       0\n",
       "Previous_Owners          6640\n",
       "hp_kW                      88\n",
       "Paint_Type                  0\n",
       "Upholstery_type             0\n",
       "Nr_of_Doors                 0\n",
       "Nr_of_Seats                 0\n",
       "Gearing_Type                0\n",
       "Displacement_cc             0\n",
       "Weight_kg                   0\n",
       "Drive_chain                 0\n",
       "cons_comb                2033\n",
       "CO2_Emission             2436\n",
       "Emission_Class              0\n",
       "dtype: int64"
      ]
     },
     "execution_count": 297,
     "metadata": {},
     "output_type": "execute_result"
    }
   ],
   "source": [
    "df.isna().sum()"
   ]
  },
  {
   "cell_type": "markdown",
   "id": "8af7a059",
   "metadata": {},
   "source": [
    "## CO2_Emission"
   ]
  },
  {
   "cell_type": "code",
   "execution_count": 298,
   "id": "02eeb6a7",
   "metadata": {},
   "outputs": [
    {
     "name": "stdout",
     "output_type": "stream",
     "text": [
      "Column name  :  CO2_Emission\n",
      "-----------------------------\n",
      "Number of nulls  :  2436\n",
      "% of nulls       :  15.3%\n",
      "Number of uniques:  122\n",
      "-----------------------------\n",
      "Value Counts\n",
      "\n",
      "NaN       2436\n",
      "120.0      740\n",
      "99.0       545\n",
      "97.0       537\n",
      "104.0      501\n",
      "          ... \n",
      "14.0         1\n",
      "1060.0       1\n",
      "51.0         1\n",
      "165.0        1\n",
      "193.0        1\n",
      "Name: CO2_Emission, Length: 123, dtype: int64\n"
     ]
    }
   ],
   "source": [
    "infos(df, \"CO2_Emission\")"
   ]
  },
  {
   "cell_type": "code",
   "execution_count": 299,
   "id": "9d928ad9",
   "metadata": {},
   "outputs": [
    {
     "data": {
      "text/plain": [
       "count    13483.000000\n",
       "mean       123.739672\n",
       "std        269.952395\n",
       "min          0.000000\n",
       "25%        104.000000\n",
       "50%        116.000000\n",
       "75%        129.000000\n",
       "max      14457.000000\n",
       "Name: CO2_Emission, dtype: float64"
      ]
     },
     "execution_count": 299,
     "metadata": {},
     "output_type": "execute_result"
    }
   ],
   "source": [
    "df[\"CO2_Emission\"].describe()"
   ]
  },
  {
   "cell_type": "code",
   "execution_count": 300,
   "id": "1591ceaa",
   "metadata": {},
   "outputs": [
    {
     "data": {
      "text/plain": [
       "10566     0.0\n",
       "8217      0.0\n",
       "14902     1.0\n",
       "11553     5.0\n",
       "13008     5.0\n",
       "6397      5.0\n",
       "8110     14.0\n",
       "3612     36.0\n",
       "3617     36.0\n",
       "3615     36.0\n",
       "12547    45.0\n",
       "9798     51.0\n",
       "7857     80.0\n",
       "8874     82.0\n",
       "13861    82.0\n",
       "8585     82.0\n",
       "8904     82.0\n",
       "8872     82.0\n",
       "Name: CO2_Emission, dtype: float64"
      ]
     },
     "execution_count": 300,
     "metadata": {},
     "output_type": "execute_result"
    }
   ],
   "source": [
    "df[\"CO2_Emission\"].sort_values().head(18)"
   ]
  },
  {
   "cell_type": "code",
   "execution_count": 301,
   "id": "725e2c29",
   "metadata": {},
   "outputs": [
    {
     "data": {
      "text/plain": [
       "count    13471.000000\n",
       "mean       123.832529\n",
       "std        270.054096\n",
       "min         80.000000\n",
       "25%        104.000000\n",
       "50%        117.000000\n",
       "75%        129.000000\n",
       "max      14457.000000\n",
       "Name: CO2_Emission, dtype: float64"
      ]
     },
     "execution_count": 301,
     "metadata": {},
     "output_type": "execute_result"
    }
   ],
   "source": [
    "df.loc[df[\"CO2_Emission\"]<70, \"CO2_Emission\"] = np.nan\n",
    "df[\"CO2_Emission\"].describe()"
   ]
  },
  {
   "cell_type": "code",
   "execution_count": 302,
   "id": "df0a684b",
   "metadata": {},
   "outputs": [
    {
     "name": "stdout",
     "output_type": "stream",
     "text": [
      "Number of NaN :  0\n",
      "------------------\n",
      "120.000000    740\n",
      "99.000000     545\n",
      "97.000000     538\n",
      "104.000000    501\n",
      "102.000000    477\n",
      "             ... \n",
      "184.000000      1\n",
      "112.166667      1\n",
      "239.000000      1\n",
      "165.000000      1\n",
      "193.000000      1\n",
      "Name: CO2_Emission, Length: 144, dtype: int64\n"
     ]
    }
   ],
   "source": [
    "fill_mean(df, \"make_model\", \"body_type\", \"CO2_Emission\")"
   ]
  },
  {
   "cell_type": "markdown",
   "id": "00fcae3a",
   "metadata": {},
   "source": [
    "## hp_kW"
   ]
  },
  {
   "cell_type": "code",
   "execution_count": 303,
   "id": "52e37976",
   "metadata": {},
   "outputs": [
    {
     "name": "stdout",
     "output_type": "stream",
     "text": [
      "Column name  :  hp_kW\n",
      "-----------------------------\n",
      "Number of nulls  :  88\n",
      "% of nulls       :  0.55%\n",
      "Number of uniques:  80\n",
      "-----------------------------\n",
      "Value Counts\n",
      "\n",
      "85.0     2542\n",
      "66.0     2122\n",
      "81.0     1402\n",
      "100.0    1308\n",
      "110.0    1112\n",
      "         ... \n",
      "84.0        1\n",
      "195.0       1\n",
      "44.0        1\n",
      "239.0       1\n",
      "9.0         1\n",
      "Name: hp_kW, Length: 81, dtype: int64\n"
     ]
    }
   ],
   "source": [
    "infos(df, \"hp_kW\")"
   ]
  },
  {
   "cell_type": "code",
   "execution_count": 304,
   "id": "2eb24d06",
   "metadata": {},
   "outputs": [
    {
     "data": {
      "text/plain": [
       "count    15831.000000\n",
       "mean        88.367696\n",
       "std         26.835135\n",
       "min          1.000000\n",
       "25%         66.000000\n",
       "50%         85.000000\n",
       "75%        101.000000\n",
       "max        294.000000\n",
       "Name: hp_kW, dtype: float64"
      ]
     },
     "execution_count": 304,
     "metadata": {},
     "output_type": "execute_result"
    }
   ],
   "source": [
    "df[\"hp_kW\"].describe()"
   ]
  },
  {
   "cell_type": "code",
   "execution_count": 305,
   "id": "615557ba",
   "metadata": {},
   "outputs": [
    {
     "data": {
      "text/plain": [
       "9285     1.0\n",
       "10579    1.0\n",
       "10468    1.0\n",
       "9289     1.0\n",
       "9288     1.0\n",
       "7019     1.0\n",
       "7018     1.0\n",
       "7016     1.0\n",
       "7014     1.0\n",
       "6946     1.0\n",
       "9290     1.0\n",
       "6005     1.0\n",
       "9292     1.0\n",
       "6034     1.0\n",
       "9287     1.0\n",
       "9299     1.0\n",
       "15155    1.0\n",
       "15156    1.0\n",
       "Name: hp_kW, dtype: float64"
      ]
     },
     "execution_count": 305,
     "metadata": {},
     "output_type": "execute_result"
    }
   ],
   "source": [
    "df[\"hp_kW\"].sort_values().head(18)"
   ]
  },
  {
   "cell_type": "code",
   "execution_count": 306,
   "id": "fca963cd",
   "metadata": {},
   "outputs": [
    {
     "data": {
      "text/plain": [
       "count    15806.000000\n",
       "mean        88.497533\n",
       "std         26.651793\n",
       "min         51.000000\n",
       "25%         66.000000\n",
       "50%         85.000000\n",
       "75%        101.000000\n",
       "max        294.000000\n",
       "Name: hp_kW, dtype: float64"
      ]
     },
     "execution_count": 306,
     "metadata": {},
     "output_type": "execute_result"
    }
   ],
   "source": [
    "df.loc[df[\"hp_kW\"]<50, \"hp_kW\"] = np.nan\n",
    "df[\"hp_kW\"].describe()"
   ]
  },
  {
   "cell_type": "code",
   "execution_count": 307,
   "id": "6c531f40",
   "metadata": {},
   "outputs": [
    {
     "name": "stdout",
     "output_type": "stream",
     "text": [
      "Number of NaN :  0\n",
      "------------------\n",
      "85.000000     2542\n",
      "66.000000     2122\n",
      "81.000000     1402\n",
      "100.000000    1308\n",
      "110.000000    1112\n",
      "              ... \n",
      "64.482143        1\n",
      "132.000000       1\n",
      "89.972376        1\n",
      "133.000000       1\n",
      "123.000000       1\n",
      "Name: hp_kW, Length: 91, dtype: int64\n"
     ]
    }
   ],
   "source": [
    "fill_mean(df, \"make_model\", \"body_type\", \"hp_kW\")"
   ]
  },
  {
   "cell_type": "markdown",
   "id": "755af868",
   "metadata": {},
   "source": [
    "### cons_comb "
   ]
  },
  {
   "cell_type": "code",
   "execution_count": 308,
   "id": "6a974f13",
   "metadata": {
    "scrolled": true
   },
   "outputs": [
    {
     "name": "stdout",
     "output_type": "stream",
     "text": [
      "Column name  :  cons_comb\n",
      "-----------------------------\n",
      "Number of nulls  :  2033\n",
      "% of nulls       :  12.77%\n",
      "Number of uniques:  72\n",
      "-----------------------------\n",
      "Value Counts\n",
      "\n",
      "NaN     2033\n",
      "5.4      770\n",
      "3.9      733\n",
      "4.0      713\n",
      "5.1      657\n",
      "        ... \n",
      "33.0       1\n",
      "50.0       1\n",
      "1.0        1\n",
      "46.0       1\n",
      "11.0       1\n",
      "Name: cons_comb, Length: 73, dtype: int64\n"
     ]
    }
   ],
   "source": [
    "infos(df, \"cons_comb\")"
   ]
  },
  {
   "cell_type": "code",
   "execution_count": 309,
   "id": "31c11a12",
   "metadata": {},
   "outputs": [
    {
     "name": "stdout",
     "output_type": "stream",
     "text": [
      "Column name  :  cons_comb\n",
      "-----------------------------\n",
      "Number of nulls  :  2033\n",
      "% of nulls       :  12.77%\n",
      "Number of uniques:  72\n",
      "-----------------------------\n",
      "Value Counts\n",
      "\n",
      "NaN     2033\n",
      "5.4      770\n",
      "3.9      733\n",
      "4.0      713\n",
      "5.1      657\n",
      "        ... \n",
      "33.0       1\n",
      "50.0       1\n",
      "1.0        1\n",
      "46.0       1\n",
      "11.0       1\n",
      "Name: cons_comb, Length: 73, dtype: int64\n"
     ]
    }
   ],
   "source": [
    "infos(df, \"cons_comb\")"
   ]
  },
  {
   "cell_type": "code",
   "execution_count": 310,
   "id": "b95f0615",
   "metadata": {},
   "outputs": [
    {
     "data": {
      "text/plain": [
       "count    13886.000000\n",
       "mean         4.895549\n",
       "std          1.635382\n",
       "min          0.000000\n",
       "25%          4.100000\n",
       "50%          4.800000\n",
       "75%          5.500000\n",
       "max         55.000000\n",
       "Name: cons_comb, dtype: float64"
      ]
     },
     "execution_count": 310,
     "metadata": {},
     "output_type": "execute_result"
    }
   ],
   "source": [
    "df[\"cons_comb\"].describe()"
   ]
  },
  {
   "cell_type": "code",
   "execution_count": 311,
   "id": "e832fa8f",
   "metadata": {},
   "outputs": [
    {
     "data": {
      "text/plain": [
       "8217     0.0\n",
       "10566    0.0\n",
       "14902    1.0\n",
       "13678    1.2\n",
       "3617     1.6\n",
       "3615     1.6\n",
       "3612     1.6\n",
       "6240     3.0\n",
       "13577    3.0\n",
       "8036     3.0\n",
       "8039     3.0\n",
       "4281     3.0\n",
       "13558    3.0\n",
       "6874     3.0\n",
       "6873     3.0\n",
       "8048     3.0\n",
       "13545    3.0\n",
       "4362     3.0\n",
       "Name: cons_comb, dtype: float64"
      ]
     },
     "execution_count": 311,
     "metadata": {},
     "output_type": "execute_result"
    }
   ],
   "source": [
    "df[\"cons_comb\"].sort_values().head(18)"
   ]
  },
  {
   "cell_type": "code",
   "execution_count": 312,
   "id": "8a62f614",
   "metadata": {},
   "outputs": [
    {
     "data": {
      "text/plain": [
       "11954    55.0\n",
       "13179    54.0\n",
       "2194     51.0\n",
       "2196     51.0\n",
       "2210     51.0\n",
       "2237     51.0\n",
       "14584    50.0\n",
       "15067    46.0\n",
       "500      43.0\n",
       "4102     40.0\n",
       "4089     40.0\n",
       "4556     38.0\n",
       "4558     38.0\n",
       "14530    33.0\n",
       "14131    32.0\n",
       "535      13.8\n",
       "10513    11.0\n",
       "14909    10.0\n",
       "14925    10.0\n",
       "13894    10.0\n",
       "Name: cons_comb, dtype: float64"
      ]
     },
     "execution_count": 312,
     "metadata": {},
     "output_type": "execute_result"
    }
   ],
   "source": [
    "df[\"cons_comb\"].sort_values(ascending=False).head(20)"
   ]
  },
  {
   "cell_type": "code",
   "execution_count": 313,
   "id": "e9669d71",
   "metadata": {},
   "outputs": [
    {
     "data": {
      "text/plain": [
       "count    13864.000000\n",
       "mean         4.854270\n",
       "std          0.938913\n",
       "min          3.000000\n",
       "25%          4.100000\n",
       "50%          4.800000\n",
       "75%          5.400000\n",
       "max         13.800000\n",
       "Name: cons_comb, dtype: float64"
      ]
     },
     "execution_count": 313,
     "metadata": {},
     "output_type": "execute_result"
    }
   ],
   "source": [
    "df.loc[df[\"cons_comb\"]<3, \"cons_comb\"] = np.nan\n",
    "df.loc[df[\"cons_comb\"]>14, \"cons_comb\"] = np.nan\n",
    "df[\"cons_comb\"].describe()"
   ]
  },
  {
   "cell_type": "code",
   "execution_count": 314,
   "id": "cecb52bc",
   "metadata": {},
   "outputs": [
    {
     "name": "stdout",
     "output_type": "stream",
     "text": [
      "Number of NaN :  0\n",
      "------------------\n",
      "5.400     770\n",
      "3.900     733\n",
      "4.000     713\n",
      "5.100     657\n",
      "4.400     623\n",
      "         ... \n",
      "11.000      1\n",
      "7.500       1\n",
      "4.550       1\n",
      "9.100       1\n",
      "4.345       1\n",
      "Name: cons_comb, Length: 84, dtype: int64\n"
     ]
    }
   ],
   "source": [
    "fill_mean(df, \"make_model\", \"body_type\", \"cons_comb\")"
   ]
  },
  {
   "cell_type": "code",
   "execution_count": 315,
   "id": "df80c6da",
   "metadata": {},
   "outputs": [
    {
     "data": {
      "text/plain": [
       "make_model                  0\n",
       "body_type                   0\n",
       "price                       0\n",
       "vat                         0\n",
       "km                          0\n",
       "Type                        1\n",
       "Fuel                        0\n",
       "Comfort & Convenience       0\n",
       "Entertainment & Media       0\n",
       "Extras                      0\n",
       "Safety & Security           0\n",
       "Gears                       0\n",
       "Previous_Owners          6640\n",
       "hp_kW                       0\n",
       "Paint_Type                  0\n",
       "Upholstery_type             0\n",
       "Nr_of_Doors                 0\n",
       "Nr_of_Seats                 0\n",
       "Gearing_Type                0\n",
       "Displacement_cc             0\n",
       "Weight_kg                   0\n",
       "Drive_chain                 0\n",
       "cons_comb                   0\n",
       "CO2_Emission                0\n",
       "Emission_Class              0\n",
       "dtype: int64"
      ]
     },
     "execution_count": 315,
     "metadata": {},
     "output_type": "execute_result"
    }
   ],
   "source": [
    "df.isna().sum()"
   ]
  },
  {
   "cell_type": "markdown",
   "id": "efe6cf69",
   "metadata": {},
   "source": [
    "### Previous_Owners"
   ]
  },
  {
   "cell_type": "code",
   "execution_count": 316,
   "id": "8b423631",
   "metadata": {},
   "outputs": [
    {
     "name": "stdout",
     "output_type": "stream",
     "text": [
      "Column name  :  Previous_Owners\n",
      "-----------------------------\n",
      "Number of nulls  :  6640\n",
      "% of nulls       :  41.71%\n",
      "Number of uniques:  5\n",
      "-----------------------------\n",
      "Value Counts\n",
      "\n",
      "1.0    8294\n",
      "NaN    6640\n",
      "2.0     778\n",
      "0.0     188\n",
      "3.0      17\n",
      "4.0       2\n",
      "Name: Previous_Owners, dtype: int64\n"
     ]
    }
   ],
   "source": [
    "infos(df, \"Previous_Owners\")"
   ]
  },
  {
   "cell_type": "code",
   "execution_count": 317,
   "id": "eb7aa0f8",
   "metadata": {},
   "outputs": [],
   "source": [
    "df.drop(\"Previous_Owners\", axis=1, inplace=True)"
   ]
  },
  {
   "cell_type": "markdown",
   "id": "182a4b21",
   "metadata": {},
   "source": [
    "## Final"
   ]
  },
  {
   "cell_type": "code",
   "execution_count": 318,
   "id": "ea118a15",
   "metadata": {},
   "outputs": [
    {
     "data": {
      "text/plain": [
       "(15919, 24)"
      ]
     },
     "execution_count": 318,
     "metadata": {},
     "output_type": "execute_result"
    }
   ],
   "source": [
    "df.shape"
   ]
  },
  {
   "cell_type": "code",
   "execution_count": 319,
   "id": "5b86c962",
   "metadata": {},
   "outputs": [
    {
     "name": "stdout",
     "output_type": "stream",
     "text": [
      "<class 'pandas.core.frame.DataFrame'>\n",
      "RangeIndex: 15919 entries, 0 to 15918\n",
      "Data columns (total 24 columns):\n",
      " #   Column                 Non-Null Count  Dtype  \n",
      "---  ------                 --------------  -----  \n",
      " 0   make_model             15919 non-null  object \n",
      " 1   body_type              15919 non-null  object \n",
      " 2   price                  15919 non-null  int64  \n",
      " 3   vat                    15919 non-null  object \n",
      " 4   km                     15919 non-null  float64\n",
      " 5   Type                   15918 non-null  object \n",
      " 6   Fuel                   15919 non-null  object \n",
      " 7   Comfort & Convenience  15919 non-null  object \n",
      " 8   Entertainment & Media  15919 non-null  object \n",
      " 9   Extras                 15919 non-null  object \n",
      " 10  Safety & Security      15919 non-null  object \n",
      " 11  Gears                  15919 non-null  float64\n",
      " 12  hp_kW                  15919 non-null  float64\n",
      " 13  Paint_Type             15919 non-null  object \n",
      " 14  Upholstery_type        15919 non-null  object \n",
      " 15  Nr_of_Doors            15919 non-null  float64\n",
      " 16  Nr_of_Seats            15919 non-null  float64\n",
      " 17  Gearing_Type           15919 non-null  object \n",
      " 18  Displacement_cc        15919 non-null  float64\n",
      " 19  Weight_kg              15919 non-null  float64\n",
      " 20  Drive_chain            15919 non-null  object \n",
      " 21  cons_comb              15919 non-null  float64\n",
      " 22  CO2_Emission           15919 non-null  float64\n",
      " 23  Emission_Class         15919 non-null  object \n",
      "dtypes: float64(9), int64(1), object(14)\n",
      "memory usage: 2.9+ MB\n"
     ]
    }
   ],
   "source": [
    "df.info()"
   ]
  },
  {
   "cell_type": "code",
   "execution_count": 320,
   "id": "1fd47f8a",
   "metadata": {},
   "outputs": [],
   "source": [
    "df.to_csv(\"scout_car_filled.csv\", index=False)"
   ]
  },
  {
   "cell_type": "code",
   "execution_count": null,
   "id": "9905386d",
   "metadata": {},
   "outputs": [],
   "source": []
  }
 ],
 "metadata": {
  "kernelspec": {
   "display_name": "Python 3 (ipykernel)",
   "language": "python",
   "name": "python3"
  },
  "language_info": {
   "codemirror_mode": {
    "name": "ipython",
    "version": 3
   },
   "file_extension": ".py",
   "mimetype": "text/x-python",
   "name": "python",
   "nbconvert_exporter": "python",
   "pygments_lexer": "ipython3",
   "version": "3.9.7"
  },
  "toc": {
   "base_numbering": 1,
   "nav_menu": {},
   "number_sections": true,
   "sideBar": true,
   "skip_h1_title": false,
   "title_cell": "Table of Contents",
   "title_sidebar": "Contents",
   "toc_cell": false,
   "toc_position": {
    "height": "calc(100% - 180px)",
    "left": "10px",
    "top": "150px",
    "width": "288px"
   },
   "toc_section_display": true,
   "toc_window_display": true
  }
 },
 "nbformat": 4,
 "nbformat_minor": 5
}
